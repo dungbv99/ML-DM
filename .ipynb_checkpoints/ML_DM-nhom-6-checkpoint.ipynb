{
 "cells": [
  {
   "cell_type": "markdown",
   "metadata": {
    "id": "ZAYage9XcDKE"
   },
   "source": [
    "# **Prepare Data**"
   ]
  },
  {
   "cell_type": "code",
   "execution_count": 1,
   "metadata": {
    "id": "AzjqcfFVJw9z"
   },
   "outputs": [],
   "source": [
    "import io\n",
    "import os\n",
    "import matplotlib.pyplot as plt\n",
    "import numpy as np \n",
    "import pandas as pd \n",
    "\n",
    "import json #converting JSON to lists for dataframe\n",
    "import warnings\n",
    "warnings.filterwarnings('ignore')\n",
    "import base64\n",
    "import codecs\n",
    "from IPython.display import HTML\n",
    "\n",
    "%matplotlib inline"
   ]
  },
  {
   "cell_type": "code",
   "execution_count": 2,
   "metadata": {
    "id": "o5K88IeDJ_Bd"
   },
   "outputs": [
    {
     "data": {
      "text/html": [
       "<div>\n",
       "<style scoped>\n",
       "    .dataframe tbody tr th:only-of-type {\n",
       "        vertical-align: middle;\n",
       "    }\n",
       "\n",
       "    .dataframe tbody tr th {\n",
       "        vertical-align: top;\n",
       "    }\n",
       "\n",
       "    .dataframe thead th {\n",
       "        text-align: right;\n",
       "    }\n",
       "</style>\n",
       "<table border=\"1\" class=\"dataframe\">\n",
       "  <thead>\n",
       "    <tr style=\"text-align: right;\">\n",
       "      <th></th>\n",
       "      <th>Unnamed: 0</th>\n",
       "      <th>budget</th>\n",
       "      <th>genres</th>\n",
       "      <th>homepage</th>\n",
       "      <th>id</th>\n",
       "      <th>keywords</th>\n",
       "      <th>original_language</th>\n",
       "      <th>original_title</th>\n",
       "      <th>overview</th>\n",
       "      <th>popularity</th>\n",
       "      <th>...</th>\n",
       "      <th>spoken_languages</th>\n",
       "      <th>status</th>\n",
       "      <th>tagline</th>\n",
       "      <th>title_x</th>\n",
       "      <th>vote_average</th>\n",
       "      <th>vote_count</th>\n",
       "      <th>movie_id</th>\n",
       "      <th>title_y</th>\n",
       "      <th>cast</th>\n",
       "      <th>crew</th>\n",
       "    </tr>\n",
       "  </thead>\n",
       "  <tbody>\n",
       "    <tr>\n",
       "      <th>0</th>\n",
       "      <td>0</td>\n",
       "      <td>237000000</td>\n",
       "      <td>[{\"id\": 28, \"name\": \"Action\"}, {\"id\": 12, \"nam...</td>\n",
       "      <td>http://www.avatarmovie.com/</td>\n",
       "      <td>19995</td>\n",
       "      <td>[{\"id\": 1463, \"name\": \"culture clash\"}, {\"id\":...</td>\n",
       "      <td>en</td>\n",
       "      <td>Avatar</td>\n",
       "      <td>In the 22nd century, a paraplegic Marine is di...</td>\n",
       "      <td>150.437577</td>\n",
       "      <td>...</td>\n",
       "      <td>[{\"iso_639_1\": \"en\", \"name\": \"English\"}, {\"iso...</td>\n",
       "      <td>Released</td>\n",
       "      <td>Enter the World of Pandora.</td>\n",
       "      <td>Avatar</td>\n",
       "      <td>7.2</td>\n",
       "      <td>11800</td>\n",
       "      <td>19995</td>\n",
       "      <td>Avatar</td>\n",
       "      <td>[{\"cast_id\": 242, \"character\": \"Jake Sully\", \"...</td>\n",
       "      <td>[{\"credit_id\": \"52fe48009251416c750aca23\", \"de...</td>\n",
       "    </tr>\n",
       "    <tr>\n",
       "      <th>1</th>\n",
       "      <td>1</td>\n",
       "      <td>300000000</td>\n",
       "      <td>[{\"id\": 12, \"name\": \"Adventure\"}, {\"id\": 14, \"...</td>\n",
       "      <td>http://disney.go.com/disneypictures/pirates/</td>\n",
       "      <td>285</td>\n",
       "      <td>[{\"id\": 270, \"name\": \"ocean\"}, {\"id\": 726, \"na...</td>\n",
       "      <td>en</td>\n",
       "      <td>Pirates of the Caribbean: At World's End</td>\n",
       "      <td>Captain Barbossa, long believed to be dead, ha...</td>\n",
       "      <td>139.082615</td>\n",
       "      <td>...</td>\n",
       "      <td>[{\"iso_639_1\": \"en\", \"name\": \"English\"}]</td>\n",
       "      <td>Released</td>\n",
       "      <td>At the end of the world, the adventure begins.</td>\n",
       "      <td>Pirates of the Caribbean: At World's End</td>\n",
       "      <td>6.9</td>\n",
       "      <td>4500</td>\n",
       "      <td>285</td>\n",
       "      <td>Pirates of the Caribbean: At World's End</td>\n",
       "      <td>[{\"cast_id\": 4, \"character\": \"Captain Jack Spa...</td>\n",
       "      <td>[{\"credit_id\": \"52fe4232c3a36847f800b579\", \"de...</td>\n",
       "    </tr>\n",
       "    <tr>\n",
       "      <th>2</th>\n",
       "      <td>2</td>\n",
       "      <td>245000000</td>\n",
       "      <td>[{\"id\": 28, \"name\": \"Action\"}, {\"id\": 12, \"nam...</td>\n",
       "      <td>http://www.sonypictures.com/movies/spectre/</td>\n",
       "      <td>206647</td>\n",
       "      <td>[{\"id\": 470, \"name\": \"spy\"}, {\"id\": 818, \"name...</td>\n",
       "      <td>en</td>\n",
       "      <td>Spectre</td>\n",
       "      <td>A cryptic message from Bond’s past sends him o...</td>\n",
       "      <td>107.376788</td>\n",
       "      <td>...</td>\n",
       "      <td>[{\"iso_639_1\": \"fr\", \"name\": \"Fran\\u00e7ais\"},...</td>\n",
       "      <td>Released</td>\n",
       "      <td>A Plan No One Escapes</td>\n",
       "      <td>Spectre</td>\n",
       "      <td>6.3</td>\n",
       "      <td>4466</td>\n",
       "      <td>206647</td>\n",
       "      <td>Spectre</td>\n",
       "      <td>[{\"cast_id\": 1, \"character\": \"James Bond\", \"cr...</td>\n",
       "      <td>[{\"credit_id\": \"54805967c3a36829b5002c41\", \"de...</td>\n",
       "    </tr>\n",
       "    <tr>\n",
       "      <th>3</th>\n",
       "      <td>3</td>\n",
       "      <td>250000000</td>\n",
       "      <td>[{\"id\": 28, \"name\": \"Action\"}, {\"id\": 80, \"nam...</td>\n",
       "      <td>http://www.thedarkknightrises.com/</td>\n",
       "      <td>49026</td>\n",
       "      <td>[{\"id\": 849, \"name\": \"dc comics\"}, {\"id\": 853,...</td>\n",
       "      <td>en</td>\n",
       "      <td>The Dark Knight Rises</td>\n",
       "      <td>Following the death of District Attorney Harve...</td>\n",
       "      <td>112.312950</td>\n",
       "      <td>...</td>\n",
       "      <td>[{\"iso_639_1\": \"en\", \"name\": \"English\"}]</td>\n",
       "      <td>Released</td>\n",
       "      <td>The Legend Ends</td>\n",
       "      <td>The Dark Knight Rises</td>\n",
       "      <td>7.6</td>\n",
       "      <td>9106</td>\n",
       "      <td>49026</td>\n",
       "      <td>The Dark Knight Rises</td>\n",
       "      <td>[{\"cast_id\": 2, \"character\": \"Bruce Wayne / Ba...</td>\n",
       "      <td>[{\"credit_id\": \"52fe4781c3a36847f81398c3\", \"de...</td>\n",
       "    </tr>\n",
       "    <tr>\n",
       "      <th>4</th>\n",
       "      <td>4</td>\n",
       "      <td>260000000</td>\n",
       "      <td>[{\"id\": 28, \"name\": \"Action\"}, {\"id\": 12, \"nam...</td>\n",
       "      <td>http://movies.disney.com/john-carter</td>\n",
       "      <td>49529</td>\n",
       "      <td>[{\"id\": 818, \"name\": \"based on novel\"}, {\"id\":...</td>\n",
       "      <td>en</td>\n",
       "      <td>John Carter</td>\n",
       "      <td>John Carter is a war-weary, former military ca...</td>\n",
       "      <td>43.926995</td>\n",
       "      <td>...</td>\n",
       "      <td>[{\"iso_639_1\": \"en\", \"name\": \"English\"}]</td>\n",
       "      <td>Released</td>\n",
       "      <td>Lost in our world, found in another.</td>\n",
       "      <td>John Carter</td>\n",
       "      <td>6.1</td>\n",
       "      <td>2124</td>\n",
       "      <td>49529</td>\n",
       "      <td>John Carter</td>\n",
       "      <td>[{\"cast_id\": 5, \"character\": \"John Carter\", \"c...</td>\n",
       "      <td>[{\"credit_id\": \"52fe479ac3a36847f813eaa3\", \"de...</td>\n",
       "    </tr>\n",
       "    <tr>\n",
       "      <th>...</th>\n",
       "      <td>...</td>\n",
       "      <td>...</td>\n",
       "      <td>...</td>\n",
       "      <td>...</td>\n",
       "      <td>...</td>\n",
       "      <td>...</td>\n",
       "      <td>...</td>\n",
       "      <td>...</td>\n",
       "      <td>...</td>\n",
       "      <td>...</td>\n",
       "      <td>...</td>\n",
       "      <td>...</td>\n",
       "      <td>...</td>\n",
       "      <td>...</td>\n",
       "      <td>...</td>\n",
       "      <td>...</td>\n",
       "      <td>...</td>\n",
       "      <td>...</td>\n",
       "      <td>...</td>\n",
       "      <td>...</td>\n",
       "      <td>...</td>\n",
       "    </tr>\n",
       "    <tr>\n",
       "      <th>995</th>\n",
       "      <td>995</td>\n",
       "      <td>60000000</td>\n",
       "      <td>[{\"id\": 14, \"name\": \"Fantasy\"}, {\"id\": 18, \"na...</td>\n",
       "      <td>NaN</td>\n",
       "      <td>109491</td>\n",
       "      <td>[{\"id\": 393, \"name\": \"civil war\"}, {\"id\": 531,...</td>\n",
       "      <td>en</td>\n",
       "      <td>Beautiful Creatures</td>\n",
       "      <td>Ethan Wate just wants to get to know Lena Duch...</td>\n",
       "      <td>40.721373</td>\n",
       "      <td>...</td>\n",
       "      <td>[{\"iso_639_1\": \"en\", \"name\": \"English\"}]</td>\n",
       "      <td>Released</td>\n",
       "      <td>Dark secrets will come to light.</td>\n",
       "      <td>Beautiful Creatures</td>\n",
       "      <td>5.6</td>\n",
       "      <td>984</td>\n",
       "      <td>109491</td>\n",
       "      <td>Beautiful Creatures</td>\n",
       "      <td>[{\"cast_id\": 12, \"character\": \"Ethan Wate\", \"c...</td>\n",
       "      <td>[{\"credit_id\": \"55950f8c925141683b001aab\", \"de...</td>\n",
       "    </tr>\n",
       "    <tr>\n",
       "      <th>996</th>\n",
       "      <td>996</td>\n",
       "      <td>55000000</td>\n",
       "      <td>[{\"id\": 35, \"name\": \"Comedy\"}, {\"id\": 80, \"nam...</td>\n",
       "      <td>NaN</td>\n",
       "      <td>9275</td>\n",
       "      <td>[{\"id\": 417, \"name\": \"corruption\"}, {\"id\": 224...</td>\n",
       "      <td>en</td>\n",
       "      <td>Death to Smoochy</td>\n",
       "      <td>Tells the story of Rainbow Randolph, the corru...</td>\n",
       "      <td>11.329727</td>\n",
       "      <td>...</td>\n",
       "      <td>[{\"iso_639_1\": \"en\", \"name\": \"English\"}]</td>\n",
       "      <td>Released</td>\n",
       "      <td>Get ready for an unexpected hit.</td>\n",
       "      <td>Death to Smoochy</td>\n",
       "      <td>5.9</td>\n",
       "      <td>132</td>\n",
       "      <td>9275</td>\n",
       "      <td>Death to Smoochy</td>\n",
       "      <td>[{\"cast_id\": 8, \"character\": \"Rainbow Randolph...</td>\n",
       "      <td>[{\"credit_id\": \"52fe44e0c3a36847f80af3af\", \"de...</td>\n",
       "    </tr>\n",
       "    <tr>\n",
       "      <th>997</th>\n",
       "      <td>997</td>\n",
       "      <td>50000000</td>\n",
       "      <td>[{\"id\": 35, \"name\": \"Comedy\"}]</td>\n",
       "      <td>http://www.zoolander.com/</td>\n",
       "      <td>329833</td>\n",
       "      <td>[{\"id\": 6241, \"name\": \"stupidity\"}, {\"id\": 966...</td>\n",
       "      <td>en</td>\n",
       "      <td>Zoolander 2</td>\n",
       "      <td>Derek and Hansel are modelling again when an o...</td>\n",
       "      <td>37.253774</td>\n",
       "      <td>...</td>\n",
       "      <td>[{\"iso_639_1\": \"en\", \"name\": \"English\"}]</td>\n",
       "      <td>Released</td>\n",
       "      <td>Long time no Z</td>\n",
       "      <td>Zoolander 2</td>\n",
       "      <td>4.7</td>\n",
       "      <td>797</td>\n",
       "      <td>329833</td>\n",
       "      <td>Zoolander 2</td>\n",
       "      <td>[{\"cast_id\": 0, \"character\": \"Derek Zoolander\"...</td>\n",
       "      <td>[{\"credit_id\": \"54ff0d5e9251410e56001a13\", \"de...</td>\n",
       "    </tr>\n",
       "    <tr>\n",
       "      <th>998</th>\n",
       "      <td>998</td>\n",
       "      <td>50000000</td>\n",
       "      <td>[{\"id\": 35, \"name\": \"Comedy\"}, {\"id\": 80, \"nam...</td>\n",
       "      <td>NaN</td>\n",
       "      <td>12634</td>\n",
       "      <td>[{\"id\": 612, \"name\": \"hotel\"}, {\"id\": 642, \"na...</td>\n",
       "      <td>en</td>\n",
       "      <td>The Big Bounce</td>\n",
       "      <td>A small-time con artist and a Hawaiian real es...</td>\n",
       "      <td>6.397388</td>\n",
       "      <td>...</td>\n",
       "      <td>[{\"iso_639_1\": \"en\", \"name\": \"English\"}]</td>\n",
       "      <td>Released</td>\n",
       "      <td>It's all in who you trust</td>\n",
       "      <td>The Big Bounce</td>\n",
       "      <td>5.0</td>\n",
       "      <td>76</td>\n",
       "      <td>12634</td>\n",
       "      <td>The Big Bounce</td>\n",
       "      <td>[{\"cast_id\": 1, \"character\": \"Jack Ryan\", \"cre...</td>\n",
       "      <td>[{\"credit_id\": \"52fe450c9251416c75049f8b\", \"de...</td>\n",
       "    </tr>\n",
       "    <tr>\n",
       "      <th>999</th>\n",
       "      <td>999</td>\n",
       "      <td>60000000</td>\n",
       "      <td>[{\"id\": 35, \"name\": \"Comedy\"}, {\"id\": 18, \"nam...</td>\n",
       "      <td>NaN</td>\n",
       "      <td>10416</td>\n",
       "      <td>[{\"id\": 3767, \"name\": \"noises\"}, {\"id\": 4862, ...</td>\n",
       "      <td>en</td>\n",
       "      <td>What Planet Are You From?</td>\n",
       "      <td>A highly-evolved planet, whose denizens feel n...</td>\n",
       "      <td>2.275331</td>\n",
       "      <td>...</td>\n",
       "      <td>[{\"iso_639_1\": \"en\", \"name\": \"English\"}]</td>\n",
       "      <td>Released</td>\n",
       "      <td>To save his planet, an alien must find a woman...</td>\n",
       "      <td>What Planet Are You From?</td>\n",
       "      <td>5.4</td>\n",
       "      <td>37</td>\n",
       "      <td>10416</td>\n",
       "      <td>What Planet Are You From?</td>\n",
       "      <td>[{\"cast_id\": 1, \"character\": \"Harold Anderson\"...</td>\n",
       "      <td>[{\"credit_id\": \"52fe436b9251416c7500f8df\", \"de...</td>\n",
       "    </tr>\n",
       "  </tbody>\n",
       "</table>\n",
       "<p>1000 rows × 25 columns</p>\n",
       "</div>"
      ],
      "text/plain": [
       "     Unnamed: 0     budget                                             genres  \\\n",
       "0             0  237000000  [{\"id\": 28, \"name\": \"Action\"}, {\"id\": 12, \"nam...   \n",
       "1             1  300000000  [{\"id\": 12, \"name\": \"Adventure\"}, {\"id\": 14, \"...   \n",
       "2             2  245000000  [{\"id\": 28, \"name\": \"Action\"}, {\"id\": 12, \"nam...   \n",
       "3             3  250000000  [{\"id\": 28, \"name\": \"Action\"}, {\"id\": 80, \"nam...   \n",
       "4             4  260000000  [{\"id\": 28, \"name\": \"Action\"}, {\"id\": 12, \"nam...   \n",
       "..          ...        ...                                                ...   \n",
       "995         995   60000000  [{\"id\": 14, \"name\": \"Fantasy\"}, {\"id\": 18, \"na...   \n",
       "996         996   55000000  [{\"id\": 35, \"name\": \"Comedy\"}, {\"id\": 80, \"nam...   \n",
       "997         997   50000000                     [{\"id\": 35, \"name\": \"Comedy\"}]   \n",
       "998         998   50000000  [{\"id\": 35, \"name\": \"Comedy\"}, {\"id\": 80, \"nam...   \n",
       "999         999   60000000  [{\"id\": 35, \"name\": \"Comedy\"}, {\"id\": 18, \"nam...   \n",
       "\n",
       "                                         homepage      id  \\\n",
       "0                     http://www.avatarmovie.com/   19995   \n",
       "1    http://disney.go.com/disneypictures/pirates/     285   \n",
       "2     http://www.sonypictures.com/movies/spectre/  206647   \n",
       "3              http://www.thedarkknightrises.com/   49026   \n",
       "4            http://movies.disney.com/john-carter   49529   \n",
       "..                                            ...     ...   \n",
       "995                                           NaN  109491   \n",
       "996                                           NaN    9275   \n",
       "997                     http://www.zoolander.com/  329833   \n",
       "998                                           NaN   12634   \n",
       "999                                           NaN   10416   \n",
       "\n",
       "                                              keywords original_language  \\\n",
       "0    [{\"id\": 1463, \"name\": \"culture clash\"}, {\"id\":...                en   \n",
       "1    [{\"id\": 270, \"name\": \"ocean\"}, {\"id\": 726, \"na...                en   \n",
       "2    [{\"id\": 470, \"name\": \"spy\"}, {\"id\": 818, \"name...                en   \n",
       "3    [{\"id\": 849, \"name\": \"dc comics\"}, {\"id\": 853,...                en   \n",
       "4    [{\"id\": 818, \"name\": \"based on novel\"}, {\"id\":...                en   \n",
       "..                                                 ...               ...   \n",
       "995  [{\"id\": 393, \"name\": \"civil war\"}, {\"id\": 531,...                en   \n",
       "996  [{\"id\": 417, \"name\": \"corruption\"}, {\"id\": 224...                en   \n",
       "997  [{\"id\": 6241, \"name\": \"stupidity\"}, {\"id\": 966...                en   \n",
       "998  [{\"id\": 612, \"name\": \"hotel\"}, {\"id\": 642, \"na...                en   \n",
       "999  [{\"id\": 3767, \"name\": \"noises\"}, {\"id\": 4862, ...                en   \n",
       "\n",
       "                               original_title  \\\n",
       "0                                      Avatar   \n",
       "1    Pirates of the Caribbean: At World's End   \n",
       "2                                     Spectre   \n",
       "3                       The Dark Knight Rises   \n",
       "4                                 John Carter   \n",
       "..                                        ...   \n",
       "995                       Beautiful Creatures   \n",
       "996                          Death to Smoochy   \n",
       "997                               Zoolander 2   \n",
       "998                            The Big Bounce   \n",
       "999                 What Planet Are You From?   \n",
       "\n",
       "                                              overview  popularity  ...  \\\n",
       "0    In the 22nd century, a paraplegic Marine is di...  150.437577  ...   \n",
       "1    Captain Barbossa, long believed to be dead, ha...  139.082615  ...   \n",
       "2    A cryptic message from Bond’s past sends him o...  107.376788  ...   \n",
       "3    Following the death of District Attorney Harve...  112.312950  ...   \n",
       "4    John Carter is a war-weary, former military ca...   43.926995  ...   \n",
       "..                                                 ...         ...  ...   \n",
       "995  Ethan Wate just wants to get to know Lena Duch...   40.721373  ...   \n",
       "996  Tells the story of Rainbow Randolph, the corru...   11.329727  ...   \n",
       "997  Derek and Hansel are modelling again when an o...   37.253774  ...   \n",
       "998  A small-time con artist and a Hawaiian real es...    6.397388  ...   \n",
       "999  A highly-evolved planet, whose denizens feel n...    2.275331  ...   \n",
       "\n",
       "                                      spoken_languages    status  \\\n",
       "0    [{\"iso_639_1\": \"en\", \"name\": \"English\"}, {\"iso...  Released   \n",
       "1             [{\"iso_639_1\": \"en\", \"name\": \"English\"}]  Released   \n",
       "2    [{\"iso_639_1\": \"fr\", \"name\": \"Fran\\u00e7ais\"},...  Released   \n",
       "3             [{\"iso_639_1\": \"en\", \"name\": \"English\"}]  Released   \n",
       "4             [{\"iso_639_1\": \"en\", \"name\": \"English\"}]  Released   \n",
       "..                                                 ...       ...   \n",
       "995           [{\"iso_639_1\": \"en\", \"name\": \"English\"}]  Released   \n",
       "996           [{\"iso_639_1\": \"en\", \"name\": \"English\"}]  Released   \n",
       "997           [{\"iso_639_1\": \"en\", \"name\": \"English\"}]  Released   \n",
       "998           [{\"iso_639_1\": \"en\", \"name\": \"English\"}]  Released   \n",
       "999           [{\"iso_639_1\": \"en\", \"name\": \"English\"}]  Released   \n",
       "\n",
       "                                               tagline  \\\n",
       "0                          Enter the World of Pandora.   \n",
       "1       At the end of the world, the adventure begins.   \n",
       "2                                A Plan No One Escapes   \n",
       "3                                      The Legend Ends   \n",
       "4                 Lost in our world, found in another.   \n",
       "..                                                 ...   \n",
       "995                   Dark secrets will come to light.   \n",
       "996                   Get ready for an unexpected hit.   \n",
       "997                                     Long time no Z   \n",
       "998                          It's all in who you trust   \n",
       "999  To save his planet, an alien must find a woman...   \n",
       "\n",
       "                                      title_x  vote_average vote_count  \\\n",
       "0                                      Avatar           7.2      11800   \n",
       "1    Pirates of the Caribbean: At World's End           6.9       4500   \n",
       "2                                     Spectre           6.3       4466   \n",
       "3                       The Dark Knight Rises           7.6       9106   \n",
       "4                                 John Carter           6.1       2124   \n",
       "..                                        ...           ...        ...   \n",
       "995                       Beautiful Creatures           5.6        984   \n",
       "996                          Death to Smoochy           5.9        132   \n",
       "997                               Zoolander 2           4.7        797   \n",
       "998                            The Big Bounce           5.0         76   \n",
       "999                 What Planet Are You From?           5.4         37   \n",
       "\n",
       "    movie_id                                   title_y  \\\n",
       "0      19995                                    Avatar   \n",
       "1        285  Pirates of the Caribbean: At World's End   \n",
       "2     206647                                   Spectre   \n",
       "3      49026                     The Dark Knight Rises   \n",
       "4      49529                               John Carter   \n",
       "..       ...                                       ...   \n",
       "995   109491                       Beautiful Creatures   \n",
       "996     9275                          Death to Smoochy   \n",
       "997   329833                               Zoolander 2   \n",
       "998    12634                            The Big Bounce   \n",
       "999    10416                 What Planet Are You From?   \n",
       "\n",
       "                                                  cast  \\\n",
       "0    [{\"cast_id\": 242, \"character\": \"Jake Sully\", \"...   \n",
       "1    [{\"cast_id\": 4, \"character\": \"Captain Jack Spa...   \n",
       "2    [{\"cast_id\": 1, \"character\": \"James Bond\", \"cr...   \n",
       "3    [{\"cast_id\": 2, \"character\": \"Bruce Wayne / Ba...   \n",
       "4    [{\"cast_id\": 5, \"character\": \"John Carter\", \"c...   \n",
       "..                                                 ...   \n",
       "995  [{\"cast_id\": 12, \"character\": \"Ethan Wate\", \"c...   \n",
       "996  [{\"cast_id\": 8, \"character\": \"Rainbow Randolph...   \n",
       "997  [{\"cast_id\": 0, \"character\": \"Derek Zoolander\"...   \n",
       "998  [{\"cast_id\": 1, \"character\": \"Jack Ryan\", \"cre...   \n",
       "999  [{\"cast_id\": 1, \"character\": \"Harold Anderson\"...   \n",
       "\n",
       "                                                  crew  \n",
       "0    [{\"credit_id\": \"52fe48009251416c750aca23\", \"de...  \n",
       "1    [{\"credit_id\": \"52fe4232c3a36847f800b579\", \"de...  \n",
       "2    [{\"credit_id\": \"54805967c3a36829b5002c41\", \"de...  \n",
       "3    [{\"credit_id\": \"52fe4781c3a36847f81398c3\", \"de...  \n",
       "4    [{\"credit_id\": \"52fe479ac3a36847f813eaa3\", \"de...  \n",
       "..                                                 ...  \n",
       "995  [{\"credit_id\": \"55950f8c925141683b001aab\", \"de...  \n",
       "996  [{\"credit_id\": \"52fe44e0c3a36847f80af3af\", \"de...  \n",
       "997  [{\"credit_id\": \"54ff0d5e9251410e56001a13\", \"de...  \n",
       "998  [{\"credit_id\": \"52fe450c9251416c75049f8b\", \"de...  \n",
       "999  [{\"credit_id\": \"52fe436b9251416c7500f8df\", \"de...  \n",
       "\n",
       "[1000 rows x 25 columns]"
      ]
     },
     "execution_count": 2,
     "metadata": {},
     "output_type": "execute_result"
    }
   ],
   "source": [
    "movies = pd.read_csv(\"./data.csv\")\n",
    "movies"
   ]
  },
  {
   "cell_type": "code",
   "execution_count": 3,
   "metadata": {
    "id": "4e4d94mAe2Uo"
   },
   "outputs": [
    {
     "data": {
      "text/html": [
       "<div>\n",
       "<style scoped>\n",
       "    .dataframe tbody tr th:only-of-type {\n",
       "        vertical-align: middle;\n",
       "    }\n",
       "\n",
       "    .dataframe tbody tr th {\n",
       "        vertical-align: top;\n",
       "    }\n",
       "\n",
       "    .dataframe thead th {\n",
       "        text-align: right;\n",
       "    }\n",
       "</style>\n",
       "<table border=\"1\" class=\"dataframe\">\n",
       "  <thead>\n",
       "    <tr style=\"text-align: right;\">\n",
       "      <th></th>\n",
       "      <th>cast</th>\n",
       "      <th>crew</th>\n",
       "      <th>production_companies</th>\n",
       "      <th>keywords</th>\n",
       "    </tr>\n",
       "  </thead>\n",
       "  <tbody>\n",
       "    <tr>\n",
       "      <th>0</th>\n",
       "      <td>[{\"cast_id\": 242, \"character\": \"Jake Sully\", \"...</td>\n",
       "      <td>[{\"credit_id\": \"52fe48009251416c750aca23\", \"de...</td>\n",
       "      <td>[{\"name\": \"Ingenious Film Partners\", \"id\": 289...</td>\n",
       "      <td>[{\"id\": 1463, \"name\": \"culture clash\"}, {\"id\":...</td>\n",
       "    </tr>\n",
       "    <tr>\n",
       "      <th>1</th>\n",
       "      <td>[{\"cast_id\": 4, \"character\": \"Captain Jack Spa...</td>\n",
       "      <td>[{\"credit_id\": \"52fe4232c3a36847f800b579\", \"de...</td>\n",
       "      <td>[{\"name\": \"Walt Disney Pictures\", \"id\": 2}, {\"...</td>\n",
       "      <td>[{\"id\": 270, \"name\": \"ocean\"}, {\"id\": 726, \"na...</td>\n",
       "    </tr>\n",
       "    <tr>\n",
       "      <th>2</th>\n",
       "      <td>[{\"cast_id\": 1, \"character\": \"James Bond\", \"cr...</td>\n",
       "      <td>[{\"credit_id\": \"54805967c3a36829b5002c41\", \"de...</td>\n",
       "      <td>[{\"name\": \"Columbia Pictures\", \"id\": 5}, {\"nam...</td>\n",
       "      <td>[{\"id\": 470, \"name\": \"spy\"}, {\"id\": 818, \"name...</td>\n",
       "    </tr>\n",
       "    <tr>\n",
       "      <th>3</th>\n",
       "      <td>[{\"cast_id\": 2, \"character\": \"Bruce Wayne / Ba...</td>\n",
       "      <td>[{\"credit_id\": \"52fe4781c3a36847f81398c3\", \"de...</td>\n",
       "      <td>[{\"name\": \"Legendary Pictures\", \"id\": 923}, {\"...</td>\n",
       "      <td>[{\"id\": 849, \"name\": \"dc comics\"}, {\"id\": 853,...</td>\n",
       "    </tr>\n",
       "    <tr>\n",
       "      <th>4</th>\n",
       "      <td>[{\"cast_id\": 5, \"character\": \"John Carter\", \"c...</td>\n",
       "      <td>[{\"credit_id\": \"52fe479ac3a36847f813eaa3\", \"de...</td>\n",
       "      <td>[{\"name\": \"Walt Disney Pictures\", \"id\": 2}]</td>\n",
       "      <td>[{\"id\": 818, \"name\": \"based on novel\"}, {\"id\":...</td>\n",
       "    </tr>\n",
       "    <tr>\n",
       "      <th>...</th>\n",
       "      <td>...</td>\n",
       "      <td>...</td>\n",
       "      <td>...</td>\n",
       "      <td>...</td>\n",
       "    </tr>\n",
       "    <tr>\n",
       "      <th>995</th>\n",
       "      <td>[{\"cast_id\": 12, \"character\": \"Ethan Wate\", \"c...</td>\n",
       "      <td>[{\"credit_id\": \"55950f8c925141683b001aab\", \"de...</td>\n",
       "      <td>[{\"name\": \"Alcon Entertainment\", \"id\": 1088}, ...</td>\n",
       "      <td>[{\"id\": 393, \"name\": \"civil war\"}, {\"id\": 531,...</td>\n",
       "    </tr>\n",
       "    <tr>\n",
       "      <th>996</th>\n",
       "      <td>[{\"cast_id\": 8, \"character\": \"Rainbow Randolph...</td>\n",
       "      <td>[{\"credit_id\": \"52fe44e0c3a36847f80af3af\", \"de...</td>\n",
       "      <td>[{\"name\": \"Senator Film Produktion\", \"id\": 191...</td>\n",
       "      <td>[{\"id\": 417, \"name\": \"corruption\"}, {\"id\": 224...</td>\n",
       "    </tr>\n",
       "    <tr>\n",
       "      <th>997</th>\n",
       "      <td>[{\"cast_id\": 0, \"character\": \"Derek Zoolander\"...</td>\n",
       "      <td>[{\"credit_id\": \"54ff0d5e9251410e56001a13\", \"de...</td>\n",
       "      <td>[{\"name\": \"Scott Rudin Productions\", \"id\": 258...</td>\n",
       "      <td>[{\"id\": 6241, \"name\": \"stupidity\"}, {\"id\": 966...</td>\n",
       "    </tr>\n",
       "    <tr>\n",
       "      <th>998</th>\n",
       "      <td>[{\"cast_id\": 1, \"character\": \"Jack Ryan\", \"cre...</td>\n",
       "      <td>[{\"credit_id\": \"52fe450c9251416c75049f8b\", \"de...</td>\n",
       "      <td>[{\"name\": \"Shangri-La Entertainment\", \"id\": 22...</td>\n",
       "      <td>[{\"id\": 612, \"name\": \"hotel\"}, {\"id\": 642, \"na...</td>\n",
       "    </tr>\n",
       "    <tr>\n",
       "      <th>999</th>\n",
       "      <td>[{\"cast_id\": 1, \"character\": \"Harold Anderson\"...</td>\n",
       "      <td>[{\"credit_id\": \"52fe436b9251416c7500f8df\", \"de...</td>\n",
       "      <td>[{\"name\": \"Columbia Pictures\", \"id\": 5}]</td>\n",
       "      <td>[{\"id\": 3767, \"name\": \"noises\"}, {\"id\": 4862, ...</td>\n",
       "    </tr>\n",
       "  </tbody>\n",
       "</table>\n",
       "<p>1000 rows × 4 columns</p>\n",
       "</div>"
      ],
      "text/plain": [
       "                                                  cast  \\\n",
       "0    [{\"cast_id\": 242, \"character\": \"Jake Sully\", \"...   \n",
       "1    [{\"cast_id\": 4, \"character\": \"Captain Jack Spa...   \n",
       "2    [{\"cast_id\": 1, \"character\": \"James Bond\", \"cr...   \n",
       "3    [{\"cast_id\": 2, \"character\": \"Bruce Wayne / Ba...   \n",
       "4    [{\"cast_id\": 5, \"character\": \"John Carter\", \"c...   \n",
       "..                                                 ...   \n",
       "995  [{\"cast_id\": 12, \"character\": \"Ethan Wate\", \"c...   \n",
       "996  [{\"cast_id\": 8, \"character\": \"Rainbow Randolph...   \n",
       "997  [{\"cast_id\": 0, \"character\": \"Derek Zoolander\"...   \n",
       "998  [{\"cast_id\": 1, \"character\": \"Jack Ryan\", \"cre...   \n",
       "999  [{\"cast_id\": 1, \"character\": \"Harold Anderson\"...   \n",
       "\n",
       "                                                  crew  \\\n",
       "0    [{\"credit_id\": \"52fe48009251416c750aca23\", \"de...   \n",
       "1    [{\"credit_id\": \"52fe4232c3a36847f800b579\", \"de...   \n",
       "2    [{\"credit_id\": \"54805967c3a36829b5002c41\", \"de...   \n",
       "3    [{\"credit_id\": \"52fe4781c3a36847f81398c3\", \"de...   \n",
       "4    [{\"credit_id\": \"52fe479ac3a36847f813eaa3\", \"de...   \n",
       "..                                                 ...   \n",
       "995  [{\"credit_id\": \"55950f8c925141683b001aab\", \"de...   \n",
       "996  [{\"credit_id\": \"52fe44e0c3a36847f80af3af\", \"de...   \n",
       "997  [{\"credit_id\": \"54ff0d5e9251410e56001a13\", \"de...   \n",
       "998  [{\"credit_id\": \"52fe450c9251416c75049f8b\", \"de...   \n",
       "999  [{\"credit_id\": \"52fe436b9251416c7500f8df\", \"de...   \n",
       "\n",
       "                                  production_companies  \\\n",
       "0    [{\"name\": \"Ingenious Film Partners\", \"id\": 289...   \n",
       "1    [{\"name\": \"Walt Disney Pictures\", \"id\": 2}, {\"...   \n",
       "2    [{\"name\": \"Columbia Pictures\", \"id\": 5}, {\"nam...   \n",
       "3    [{\"name\": \"Legendary Pictures\", \"id\": 923}, {\"...   \n",
       "4          [{\"name\": \"Walt Disney Pictures\", \"id\": 2}]   \n",
       "..                                                 ...   \n",
       "995  [{\"name\": \"Alcon Entertainment\", \"id\": 1088}, ...   \n",
       "996  [{\"name\": \"Senator Film Produktion\", \"id\": 191...   \n",
       "997  [{\"name\": \"Scott Rudin Productions\", \"id\": 258...   \n",
       "998  [{\"name\": \"Shangri-La Entertainment\", \"id\": 22...   \n",
       "999           [{\"name\": \"Columbia Pictures\", \"id\": 5}]   \n",
       "\n",
       "                                              keywords  \n",
       "0    [{\"id\": 1463, \"name\": \"culture clash\"}, {\"id\":...  \n",
       "1    [{\"id\": 270, \"name\": \"ocean\"}, {\"id\": 726, \"na...  \n",
       "2    [{\"id\": 470, \"name\": \"spy\"}, {\"id\": 818, \"name...  \n",
       "3    [{\"id\": 849, \"name\": \"dc comics\"}, {\"id\": 853,...  \n",
       "4    [{\"id\": 818, \"name\": \"based on novel\"}, {\"id\":...  \n",
       "..                                                 ...  \n",
       "995  [{\"id\": 393, \"name\": \"civil war\"}, {\"id\": 531,...  \n",
       "996  [{\"id\": 417, \"name\": \"corruption\"}, {\"id\": 224...  \n",
       "997  [{\"id\": 6241, \"name\": \"stupidity\"}, {\"id\": 966...  \n",
       "998  [{\"id\": 612, \"name\": \"hotel\"}, {\"id\": 642, \"na...  \n",
       "999  [{\"id\": 3767, \"name\": \"noises\"}, {\"id\": 4862, ...  \n",
       "\n",
       "[1000 rows x 4 columns]"
      ]
     },
     "execution_count": 3,
     "metadata": {},
     "output_type": "execute_result"
    }
   ],
   "source": [
    "movies[ ['cast', 'crew', 'production_companies', 'keywords']]"
   ]
  },
  {
   "cell_type": "code",
   "execution_count": 4,
   "metadata": {
    "id": "hFy3XLUzLEpy"
   },
   "outputs": [
    {
     "name": "stdout",
     "output_type": "stream",
     "text": [
      "Unique vote counts for movies with 0.0 rating\n"
     ]
    }
   ],
   "source": [
    "counts = movies[(movies['vote_average']==0)]['vote_count'] # get vote counts for all movies that have a rating of 0.0\n",
    "\n",
    "print(\"Unique vote counts for movies with 0.0 rating\")\n",
    "for u in set(counts):\n",
    "    print(u)"
   ]
  },
  {
   "cell_type": "code",
   "execution_count": 5,
   "metadata": {
    "id": "fC3r56yaLVUk"
   },
   "outputs": [],
   "source": [
    "movies = movies[(movies['vote_average']!=0)]\n"
   ]
  },
  {
   "cell_type": "code",
   "execution_count": 6,
   "metadata": {
    "id": "LzQ3HvmZLXPV"
   },
   "outputs": [
    {
     "data": {
      "text/html": [
       "<div>\n",
       "<style scoped>\n",
       "    .dataframe tbody tr th:only-of-type {\n",
       "        vertical-align: middle;\n",
       "    }\n",
       "\n",
       "    .dataframe tbody tr th {\n",
       "        vertical-align: top;\n",
       "    }\n",
       "\n",
       "    .dataframe thead th {\n",
       "        text-align: right;\n",
       "    }\n",
       "</style>\n",
       "<table border=\"1\" class=\"dataframe\">\n",
       "  <thead>\n",
       "    <tr style=\"text-align: right;\">\n",
       "      <th></th>\n",
       "      <th>Unnamed: 0</th>\n",
       "      <th>budget</th>\n",
       "      <th>genres</th>\n",
       "      <th>homepage</th>\n",
       "      <th>id</th>\n",
       "      <th>keywords</th>\n",
       "      <th>original_language</th>\n",
       "      <th>original_title</th>\n",
       "      <th>overview</th>\n",
       "      <th>popularity</th>\n",
       "      <th>...</th>\n",
       "      <th>spoken_languages</th>\n",
       "      <th>status</th>\n",
       "      <th>tagline</th>\n",
       "      <th>title_x</th>\n",
       "      <th>vote_average</th>\n",
       "      <th>vote_count</th>\n",
       "      <th>movie_id</th>\n",
       "      <th>title_y</th>\n",
       "      <th>cast</th>\n",
       "      <th>crew</th>\n",
       "    </tr>\n",
       "  </thead>\n",
       "  <tbody>\n",
       "    <tr>\n",
       "      <th>78</th>\n",
       "      <td>78</td>\n",
       "      <td>175000000</td>\n",
       "      <td>[{\"id\": 10751, \"name\": \"Family\"}, {\"id\": 12, \"...</td>\n",
       "      <td>http://movies.disney.com/the-jungle-book-2016</td>\n",
       "      <td>278927</td>\n",
       "      <td>[{\"id\": 818, \"name\": \"based on novel\"}, {\"id\":...</td>\n",
       "      <td>en</td>\n",
       "      <td>The Jungle Book</td>\n",
       "      <td>After a threat from the tiger Shere Khan force...</td>\n",
       "      <td>94.199316</td>\n",
       "      <td>...</td>\n",
       "      <td>[{\"iso_639_1\": \"en\", \"name\": \"English\"}]</td>\n",
       "      <td>Released</td>\n",
       "      <td>NaN</td>\n",
       "      <td>The Jungle Book</td>\n",
       "      <td>6.7</td>\n",
       "      <td>2892</td>\n",
       "      <td>278927</td>\n",
       "      <td>The Jungle Book</td>\n",
       "      <td>[{\"cast_id\": 12, \"character\": \"Mowgli\", \"credi...</td>\n",
       "      <td>[{\"credit_id\": \"571507b692514105a80032f0\", \"de...</td>\n",
       "    </tr>\n",
       "    <tr>\n",
       "      <th>342</th>\n",
       "      <td>342</td>\n",
       "      <td>90000000</td>\n",
       "      <td>[{\"id\": 28, \"name\": \"Action\"}, {\"id\": 12, \"nam...</td>\n",
       "      <td>http://www.sonypictures.com/homevideo/meninblack/</td>\n",
       "      <td>607</td>\n",
       "      <td>[{\"id\": 1308, \"name\": \"secret identity\"}, {\"id...</td>\n",
       "      <td>en</td>\n",
       "      <td>Men in Black</td>\n",
       "      <td>Men in Black follows the exploits of agents Ka...</td>\n",
       "      <td>104.121555</td>\n",
       "      <td>...</td>\n",
       "      <td>[{\"iso_639_1\": \"en\", \"name\": \"English\"}, {\"iso...</td>\n",
       "      <td>Released</td>\n",
       "      <td>Protecting the Earth from the scum of the univ...</td>\n",
       "      <td>Men in Black</td>\n",
       "      <td>6.9</td>\n",
       "      <td>4412</td>\n",
       "      <td>607</td>\n",
       "      <td>Men in Black</td>\n",
       "      <td>[{\"cast_id\": 25, \"character\": \"Agent K\", \"cred...</td>\n",
       "      <td>[{\"credit_id\": \"52fe425dc3a36847f8018775\", \"de...</td>\n",
       "    </tr>\n",
       "    <tr>\n",
       "      <th>123</th>\n",
       "      <td>123</td>\n",
       "      <td>150000000</td>\n",
       "      <td>[{\"id\": 12, \"name\": \"Adventure\"}, {\"id\": 28, \"...</td>\n",
       "      <td>NaN</td>\n",
       "      <td>605</td>\n",
       "      <td>[{\"id\": 83, \"name\": \"saving the world\"}, {\"id\"...</td>\n",
       "      <td>en</td>\n",
       "      <td>The Matrix Revolutions</td>\n",
       "      <td>The human city of Zion defends itself against ...</td>\n",
       "      <td>73.313918</td>\n",
       "      <td>...</td>\n",
       "      <td>[{\"iso_639_1\": \"en\", \"name\": \"English\"}, {\"iso...</td>\n",
       "      <td>Released</td>\n",
       "      <td>Everything that has a beginning has an end.</td>\n",
       "      <td>The Matrix Revolutions</td>\n",
       "      <td>6.4</td>\n",
       "      <td>3096</td>\n",
       "      <td>605</td>\n",
       "      <td>The Matrix Revolutions</td>\n",
       "      <td>[{\"cast_id\": 1, \"character\": \"Thomas \\\"Neo\\\" A...</td>\n",
       "      <td>[{\"credit_id\": \"52fe425cc3a36847f8018547\", \"de...</td>\n",
       "    </tr>\n",
       "    <tr>\n",
       "      <th>290</th>\n",
       "      <td>290</td>\n",
       "      <td>100000000</td>\n",
       "      <td>[{\"id\": 28, \"name\": \"Action\"}, {\"id\": 12, \"nam...</td>\n",
       "      <td>http://theexpendables2film.com/</td>\n",
       "      <td>76163</td>\n",
       "      <td>[{\"id\": 3800, \"name\": \"airplane\"}, {\"id\": 9791...</td>\n",
       "      <td>en</td>\n",
       "      <td>The Expendables 2</td>\n",
       "      <td>Mr. Church reunites the Expendables for what s...</td>\n",
       "      <td>53.732892</td>\n",
       "      <td>...</td>\n",
       "      <td>[{\"iso_639_1\": \"en\", \"name\": \"English\"}]</td>\n",
       "      <td>Released</td>\n",
       "      <td>Back for War.</td>\n",
       "      <td>The Expendables 2</td>\n",
       "      <td>6.1</td>\n",
       "      <td>2896</td>\n",
       "      <td>76163</td>\n",
       "      <td>The Expendables 2</td>\n",
       "      <td>[{\"cast_id\": 2, \"character\": \"Barney Ross\", \"c...</td>\n",
       "      <td>[{\"credit_id\": \"52fe492ac3a368484e11d7b9\", \"de...</td>\n",
       "    </tr>\n",
       "    <tr>\n",
       "      <th>59</th>\n",
       "      <td>59</td>\n",
       "      <td>200000000</td>\n",
       "      <td>[{\"id\": 28, \"name\": \"Action\"}, {\"id\": 12, \"nam...</td>\n",
       "      <td>http://www.sonypictures.com/movies/2012</td>\n",
       "      <td>14161</td>\n",
       "      <td>[{\"id\": 2163, \"name\": \"civilization\"}, {\"id\": ...</td>\n",
       "      <td>en</td>\n",
       "      <td>2012</td>\n",
       "      <td>Dr. Adrian Helmsley, part of a worldwide geoph...</td>\n",
       "      <td>45.274225</td>\n",
       "      <td>...</td>\n",
       "      <td>[{\"iso_639_1\": \"en\", \"name\": \"English\"}, {\"iso...</td>\n",
       "      <td>Released</td>\n",
       "      <td>We Were Warned.</td>\n",
       "      <td>2012</td>\n",
       "      <td>5.6</td>\n",
       "      <td>4903</td>\n",
       "      <td>14161</td>\n",
       "      <td>2012</td>\n",
       "      <td>[{\"cast_id\": 1, \"character\": \"Jackson Curtis\",...</td>\n",
       "      <td>[{\"credit_id\": \"52fe45d29251416c750639d1\", \"de...</td>\n",
       "    </tr>\n",
       "  </tbody>\n",
       "</table>\n",
       "<p>5 rows × 25 columns</p>\n",
       "</div>"
      ],
      "text/plain": [
       "     Unnamed: 0     budget                                             genres  \\\n",
       "78           78  175000000  [{\"id\": 10751, \"name\": \"Family\"}, {\"id\": 12, \"...   \n",
       "342         342   90000000  [{\"id\": 28, \"name\": \"Action\"}, {\"id\": 12, \"nam...   \n",
       "123         123  150000000  [{\"id\": 12, \"name\": \"Adventure\"}, {\"id\": 28, \"...   \n",
       "290         290  100000000  [{\"id\": 28, \"name\": \"Action\"}, {\"id\": 12, \"nam...   \n",
       "59           59  200000000  [{\"id\": 28, \"name\": \"Action\"}, {\"id\": 12, \"nam...   \n",
       "\n",
       "                                              homepage      id  \\\n",
       "78       http://movies.disney.com/the-jungle-book-2016  278927   \n",
       "342  http://www.sonypictures.com/homevideo/meninblack/     607   \n",
       "123                                                NaN     605   \n",
       "290                    http://theexpendables2film.com/   76163   \n",
       "59             http://www.sonypictures.com/movies/2012   14161   \n",
       "\n",
       "                                              keywords original_language  \\\n",
       "78   [{\"id\": 818, \"name\": \"based on novel\"}, {\"id\":...                en   \n",
       "342  [{\"id\": 1308, \"name\": \"secret identity\"}, {\"id...                en   \n",
       "123  [{\"id\": 83, \"name\": \"saving the world\"}, {\"id\"...                en   \n",
       "290  [{\"id\": 3800, \"name\": \"airplane\"}, {\"id\": 9791...                en   \n",
       "59   [{\"id\": 2163, \"name\": \"civilization\"}, {\"id\": ...                en   \n",
       "\n",
       "             original_title  \\\n",
       "78          The Jungle Book   \n",
       "342            Men in Black   \n",
       "123  The Matrix Revolutions   \n",
       "290       The Expendables 2   \n",
       "59                     2012   \n",
       "\n",
       "                                              overview  popularity  ...  \\\n",
       "78   After a threat from the tiger Shere Khan force...   94.199316  ...   \n",
       "342  Men in Black follows the exploits of agents Ka...  104.121555  ...   \n",
       "123  The human city of Zion defends itself against ...   73.313918  ...   \n",
       "290  Mr. Church reunites the Expendables for what s...   53.732892  ...   \n",
       "59   Dr. Adrian Helmsley, part of a worldwide geoph...   45.274225  ...   \n",
       "\n",
       "                                      spoken_languages    status  \\\n",
       "78            [{\"iso_639_1\": \"en\", \"name\": \"English\"}]  Released   \n",
       "342  [{\"iso_639_1\": \"en\", \"name\": \"English\"}, {\"iso...  Released   \n",
       "123  [{\"iso_639_1\": \"en\", \"name\": \"English\"}, {\"iso...  Released   \n",
       "290           [{\"iso_639_1\": \"en\", \"name\": \"English\"}]  Released   \n",
       "59   [{\"iso_639_1\": \"en\", \"name\": \"English\"}, {\"iso...  Released   \n",
       "\n",
       "                                               tagline  \\\n",
       "78                                                 NaN   \n",
       "342  Protecting the Earth from the scum of the univ...   \n",
       "123        Everything that has a beginning has an end.   \n",
       "290                                      Back for War.   \n",
       "59                                     We Were Warned.   \n",
       "\n",
       "                    title_x  vote_average vote_count movie_id  \\\n",
       "78          The Jungle Book           6.7       2892   278927   \n",
       "342            Men in Black           6.9       4412      607   \n",
       "123  The Matrix Revolutions           6.4       3096      605   \n",
       "290       The Expendables 2           6.1       2896    76163   \n",
       "59                     2012           5.6       4903    14161   \n",
       "\n",
       "                    title_y  \\\n",
       "78          The Jungle Book   \n",
       "342            Men in Black   \n",
       "123  The Matrix Revolutions   \n",
       "290       The Expendables 2   \n",
       "59                     2012   \n",
       "\n",
       "                                                  cast  \\\n",
       "78   [{\"cast_id\": 12, \"character\": \"Mowgli\", \"credi...   \n",
       "342  [{\"cast_id\": 25, \"character\": \"Agent K\", \"cred...   \n",
       "123  [{\"cast_id\": 1, \"character\": \"Thomas \\\"Neo\\\" A...   \n",
       "290  [{\"cast_id\": 2, \"character\": \"Barney Ross\", \"c...   \n",
       "59   [{\"cast_id\": 1, \"character\": \"Jackson Curtis\",...   \n",
       "\n",
       "                                                  crew  \n",
       "78   [{\"credit_id\": \"571507b692514105a80032f0\", \"de...  \n",
       "342  [{\"credit_id\": \"52fe425dc3a36847f8018775\", \"de...  \n",
       "123  [{\"credit_id\": \"52fe425cc3a36847f8018547\", \"de...  \n",
       "290  [{\"credit_id\": \"52fe492ac3a368484e11d7b9\", \"de...  \n",
       "59   [{\"credit_id\": \"52fe45d29251416c750639d1\", \"de...  \n",
       "\n",
       "[5 rows x 25 columns]"
      ]
     },
     "execution_count": 6,
     "metadata": {},
     "output_type": "execute_result"
    }
   ],
   "source": [
    "movies.sample(5)\n"
   ]
  },
  {
   "cell_type": "code",
   "execution_count": 7,
   "metadata": {
    "id": "TTXiiwaBLYs-"
   },
   "outputs": [],
   "source": [
    "def to_list(df, feature_names_list): #df: dataframe, feature_names: list of all features to convert from JSON to list\n",
    "    for feature_name in feature_names_list:\n",
    "        # print(\"Current:\", feature_name)\n",
    "        #STEP 1: convert JSON format to a list\n",
    "        df[feature_name]=df[feature_name].apply(json.loads)\n",
    "        #Two cases here: Feature is crew, or feature is not crew\n",
    "        if feature_name == 'crew': #if crew, due to large size, want to limit to most influential members: director, editor, cinematographer, screenplay, and composer\n",
    "            for index,i in zip(df.index,df[feature_name]):\n",
    "                feature_list_1=[]\n",
    "                limit = 10\n",
    "                if len(i) < 10:\n",
    "                    limit = len(i)\n",
    "                for j in range(limit): #top 10 crew members\n",
    "                    feature_list_1.append((i[j]['name'])) # the key 'name' contains the name of the a sub-feature (ex: sci-fi in genres)\n",
    "                df.loc[index,feature_name]= str(feature_list_1)\n",
    "                \n",
    "        elif feature_name == 'cast': #Another special case. Only want top 5 cast members (most infulential)\n",
    "            for index,i in zip(df.index,df[feature_name]):\n",
    "                feature_list_1=[]\n",
    "                if len(i) > 5:\n",
    "                    limit = 5\n",
    "                else:\n",
    "                    limit = len(i)\n",
    "                for j in range(limit): #top 5 (JSON format already has this sorted)\n",
    "                    feature_list_1.append((i[j]['name']))\n",
    "                df.loc[index,feature_name]= str(feature_list_1)\n",
    "        else:    \n",
    "            for index,i in zip(df.index,df[feature_name]):\n",
    "                feature_list_1=[]\n",
    "                for j in range(len(i)):\n",
    "                    feature_list_1.append((i[j]['name']))\n",
    "                df.loc[index,feature_name]= str(feature_list_1)\n",
    "    \n",
    "        #STEP 2: clean up and transform into unsorted list\n",
    "        df[feature_name] = df[feature_name].str.strip('[]').str.replace(' ','').str.replace(\"'\",'')\n",
    "        df[feature_name] = df[feature_name].str.split(',')\n",
    "        #STEP 3: Sort list elements\n",
    "        for i,j in zip(df[feature_name],df.index):\n",
    "            features_list_2=i\n",
    "            features_list_2.sort()\n",
    "            df.loc[j,feature_name]=str(features_list_2)\n",
    "        df[feature_name]=df[feature_name].str.strip('[]').str.replace(' ','').str.replace(\"'\",'')\n",
    "        lst = df[feature_name].str.split(',')\n",
    "        if len(lst) == 0:\n",
    "            df[feature_name] = None\n",
    "        else:\n",
    "            df[feature_name]= df[feature_name].str.split(',')\n",
    "    return df"
   ]
  },
  {
   "cell_type": "code",
   "execution_count": 8,
   "metadata": {
    "id": "iHSIVZ3gCyIV"
   },
   "outputs": [
    {
     "data": {
      "text/plain": [
       "Int64Index([  0,   1,   2,   3,   4,   5,   6,   7,   8,   9,\n",
       "            ...\n",
       "            990, 991, 992, 993, 994, 995, 996, 997, 998, 999],\n",
       "           dtype='int64', length=1000)"
      ]
     },
     "execution_count": 8,
     "metadata": {},
     "output_type": "execute_result"
    }
   ],
   "source": [
    "movies.index"
   ]
  },
  {
   "cell_type": "code",
   "execution_count": 9,
   "metadata": {
    "id": "32grPdALLg5S"
   },
   "outputs": [],
   "source": [
    "movies = to_list(movies, ['genres', 'keywords', 'production_companies', 'cast', 'crew']) #function call\n"
   ]
  },
  {
   "cell_type": "code",
   "execution_count": 10,
   "metadata": {
    "id": "RkU9OixXfRF8"
   },
   "outputs": [
    {
     "data": {
      "text/html": [
       "<div>\n",
       "<style scoped>\n",
       "    .dataframe tbody tr th:only-of-type {\n",
       "        vertical-align: middle;\n",
       "    }\n",
       "\n",
       "    .dataframe tbody tr th {\n",
       "        vertical-align: top;\n",
       "    }\n",
       "\n",
       "    .dataframe thead th {\n",
       "        text-align: right;\n",
       "    }\n",
       "</style>\n",
       "<table border=\"1\" class=\"dataframe\">\n",
       "  <thead>\n",
       "    <tr style=\"text-align: right;\">\n",
       "      <th></th>\n",
       "      <th>cast</th>\n",
       "      <th>crew</th>\n",
       "      <th>production_companies</th>\n",
       "      <th>keywords</th>\n",
       "    </tr>\n",
       "  </thead>\n",
       "  <tbody>\n",
       "    <tr>\n",
       "      <th>0</th>\n",
       "      <td>[MichelleRodriguez, SamWorthington, SigourneyW...</td>\n",
       "      <td>[ChristopherBoyes, ChristopherBoyes, JamesCame...</td>\n",
       "      <td>[DuneEntertainment, IngeniousFilmPartners, Lig...</td>\n",
       "      <td>[3d, alien, alienplanet, antiwar, battle, cgi,...</td>\n",
       "    </tr>\n",
       "    <tr>\n",
       "      <th>1</th>\n",
       "      <td>[ChowYun-fat, JohnnyDepp, KeiraKnightley, Orla...</td>\n",
       "      <td>[CraigWood, DariuszWolski, EricMcLeod, GoreVer...</td>\n",
       "      <td>[JerryBruckheimerFilms, SecondMateProductions,...</td>\n",
       "      <td>[\"loveofoneslife\", aftercreditsstinger, afterl...</td>\n",
       "    </tr>\n",
       "    <tr>\n",
       "      <th>2</th>\n",
       "      <td>[ChristophWaltz, DanielCraig, LéaSeydoux, Moni...</td>\n",
       "      <td>[AnnaPinnock, BillBernstein, DanielCraig, Denn...</td>\n",
       "      <td>[B24, ColumbiaPictures, Danjaq]</td>\n",
       "      <td>[basedonnovel, britishsecretservice, mi6, secr...</td>\n",
       "    </tr>\n",
       "    <tr>\n",
       "      <th>3</th>\n",
       "      <td>[AnneHathaway, ChristianBale, GaryOldman, Mich...</td>\n",
       "      <td>[CharlesRoven, ChristopherNolan, ChristopherNo...</td>\n",
       "      <td>[DCEntertainment, LegendaryPictures, Syncopy, ...</td>\n",
       "      <td>[batman, burglar, catburglar, catwoman, cover-...</td>\n",
       "    </tr>\n",
       "    <tr>\n",
       "      <th>4</th>\n",
       "      <td>[LynnCollins, SamanthaMorton, TaylorKitsch, Th...</td>\n",
       "      <td>[AndrewStanton, AndrewStanton, ColinWilson, Er...</td>\n",
       "      <td>[WaltDisneyPictures]</td>\n",
       "      <td>[19thcentury, 3d, alien, alienrace, basedonnov...</td>\n",
       "    </tr>\n",
       "    <tr>\n",
       "      <th>...</th>\n",
       "      <td>...</td>\n",
       "      <td>...</td>\n",
       "      <td>...</td>\n",
       "      <td>...</td>\n",
       "    </tr>\n",
       "    <tr>\n",
       "      <th>995</th>\n",
       "      <td>[AldenEhrenreich, AliceEnglert, EmmyRossum, Je...</td>\n",
       "      <td>[DavidMoritz, DavidValdes, ErwinStoff, Jeffrey...</td>\n",
       "      <td>[3ArtsEntertainment, AlconEntertainment, Belle...</td>\n",
       "      <td>[basedonyoungadultnovel, casters, civilwar, cl...</td>\n",
       "    </tr>\n",
       "    <tr>\n",
       "      <th>996</th>\n",
       "      <td>[CatherineKeener, DannyDeVito, EdwardNorton, J...</td>\n",
       "      <td>[AdamResnick, AnastasN.Michos, AndrewLazar, Da...</td>\n",
       "      <td>[Filmfour, MadChance, SenatorFilmProduktion, W...</td>\n",
       "      <td>[corruption, duringcreditsstinger, irishmob, m...</td>\n",
       "    </tr>\n",
       "    <tr>\n",
       "      <th>997</th>\n",
       "      <td>[BenStiller, KristenWiig, OwenWilson, Penélope...</td>\n",
       "      <td>[BenStiller, BenStiller, BenStiller, ClaytonTo...</td>\n",
       "      <td>[RedHourFilms, ScottRudinProductions]</td>\n",
       "      <td>[fashion, fashionmodel, malemodel, modeling, s...</td>\n",
       "    </tr>\n",
       "    <tr>\n",
       "      <th>998</th>\n",
       "      <td>[GarySinise, MorganFreeman, OwenWilson, SaraFo...</td>\n",
       "      <td>[BarryMalkin, BrianBerdan, ElmoreLeonard, Geor...</td>\n",
       "      <td>[Material, Shangri-LaEntertainment, TaorminaPr...</td>\n",
       "      <td>[basedonnovel, beachhouse, blackmail, cellphon...</td>\n",
       "    </tr>\n",
       "    <tr>\n",
       "      <th>999</th>\n",
       "      <td>[AnnetteBening, GarryShandling, GregKinnear, J...</td>\n",
       "      <td>[CarterBurwell, EdSolomon, GarryShandling, Gar...</td>\n",
       "      <td>[ColumbiaPictures]</td>\n",
       "      <td>[alien, alienlife-form, erection, neuefrau, no...</td>\n",
       "    </tr>\n",
       "  </tbody>\n",
       "</table>\n",
       "<p>1000 rows × 4 columns</p>\n",
       "</div>"
      ],
      "text/plain": [
       "                                                  cast  \\\n",
       "0    [MichelleRodriguez, SamWorthington, SigourneyW...   \n",
       "1    [ChowYun-fat, JohnnyDepp, KeiraKnightley, Orla...   \n",
       "2    [ChristophWaltz, DanielCraig, LéaSeydoux, Moni...   \n",
       "3    [AnneHathaway, ChristianBale, GaryOldman, Mich...   \n",
       "4    [LynnCollins, SamanthaMorton, TaylorKitsch, Th...   \n",
       "..                                                 ...   \n",
       "995  [AldenEhrenreich, AliceEnglert, EmmyRossum, Je...   \n",
       "996  [CatherineKeener, DannyDeVito, EdwardNorton, J...   \n",
       "997  [BenStiller, KristenWiig, OwenWilson, Penélope...   \n",
       "998  [GarySinise, MorganFreeman, OwenWilson, SaraFo...   \n",
       "999  [AnnetteBening, GarryShandling, GregKinnear, J...   \n",
       "\n",
       "                                                  crew  \\\n",
       "0    [ChristopherBoyes, ChristopherBoyes, JamesCame...   \n",
       "1    [CraigWood, DariuszWolski, EricMcLeod, GoreVer...   \n",
       "2    [AnnaPinnock, BillBernstein, DanielCraig, Denn...   \n",
       "3    [CharlesRoven, ChristopherNolan, ChristopherNo...   \n",
       "4    [AndrewStanton, AndrewStanton, ColinWilson, Er...   \n",
       "..                                                 ...   \n",
       "995  [DavidMoritz, DavidValdes, ErwinStoff, Jeffrey...   \n",
       "996  [AdamResnick, AnastasN.Michos, AndrewLazar, Da...   \n",
       "997  [BenStiller, BenStiller, BenStiller, ClaytonTo...   \n",
       "998  [BarryMalkin, BrianBerdan, ElmoreLeonard, Geor...   \n",
       "999  [CarterBurwell, EdSolomon, GarryShandling, Gar...   \n",
       "\n",
       "                                  production_companies  \\\n",
       "0    [DuneEntertainment, IngeniousFilmPartners, Lig...   \n",
       "1    [JerryBruckheimerFilms, SecondMateProductions,...   \n",
       "2                      [B24, ColumbiaPictures, Danjaq]   \n",
       "3    [DCEntertainment, LegendaryPictures, Syncopy, ...   \n",
       "4                                 [WaltDisneyPictures]   \n",
       "..                                                 ...   \n",
       "995  [3ArtsEntertainment, AlconEntertainment, Belle...   \n",
       "996  [Filmfour, MadChance, SenatorFilmProduktion, W...   \n",
       "997              [RedHourFilms, ScottRudinProductions]   \n",
       "998  [Material, Shangri-LaEntertainment, TaorminaPr...   \n",
       "999                                 [ColumbiaPictures]   \n",
       "\n",
       "                                              keywords  \n",
       "0    [3d, alien, alienplanet, antiwar, battle, cgi,...  \n",
       "1    [\"loveofoneslife\", aftercreditsstinger, afterl...  \n",
       "2    [basedonnovel, britishsecretservice, mi6, secr...  \n",
       "3    [batman, burglar, catburglar, catwoman, cover-...  \n",
       "4    [19thcentury, 3d, alien, alienrace, basedonnov...  \n",
       "..                                                 ...  \n",
       "995  [basedonyoungadultnovel, casters, civilwar, cl...  \n",
       "996  [corruption, duringcreditsstinger, irishmob, m...  \n",
       "997  [fashion, fashionmodel, malemodel, modeling, s...  \n",
       "998  [basedonnovel, beachhouse, blackmail, cellphon...  \n",
       "999  [alien, alienlife-form, erection, neuefrau, no...  \n",
       "\n",
       "[1000 rows x 4 columns]"
      ]
     },
     "execution_count": 10,
     "metadata": {},
     "output_type": "execute_result"
    }
   ],
   "source": [
    "movies[ ['cast', 'crew', 'production_companies', 'keywords']]"
   ]
  },
  {
   "cell_type": "code",
   "execution_count": 11,
   "metadata": {
    "id": "D0UgOpQphL7p"
   },
   "outputs": [
    {
     "data": {
      "text/html": [
       "<div>\n",
       "<style scoped>\n",
       "    .dataframe tbody tr th:only-of-type {\n",
       "        vertical-align: middle;\n",
       "    }\n",
       "\n",
       "    .dataframe tbody tr th {\n",
       "        vertical-align: top;\n",
       "    }\n",
       "\n",
       "    .dataframe thead th {\n",
       "        text-align: right;\n",
       "    }\n",
       "</style>\n",
       "<table border=\"1\" class=\"dataframe\">\n",
       "  <thead>\n",
       "    <tr style=\"text-align: right;\">\n",
       "      <th></th>\n",
       "      <th>Unnamed: 0</th>\n",
       "      <th>budget</th>\n",
       "      <th>genres</th>\n",
       "      <th>homepage</th>\n",
       "      <th>id</th>\n",
       "      <th>keywords</th>\n",
       "      <th>original_language</th>\n",
       "      <th>original_title</th>\n",
       "      <th>overview</th>\n",
       "      <th>popularity</th>\n",
       "      <th>...</th>\n",
       "      <th>spoken_languages</th>\n",
       "      <th>status</th>\n",
       "      <th>tagline</th>\n",
       "      <th>title_x</th>\n",
       "      <th>vote_average</th>\n",
       "      <th>vote_count</th>\n",
       "      <th>movie_id</th>\n",
       "      <th>title_y</th>\n",
       "      <th>cast</th>\n",
       "      <th>crew</th>\n",
       "    </tr>\n",
       "  </thead>\n",
       "  <tbody>\n",
       "    <tr>\n",
       "      <th>0</th>\n",
       "      <td>0</td>\n",
       "      <td>237000000</td>\n",
       "      <td>[Action, Adventure, Fantasy, ScienceFiction]</td>\n",
       "      <td>http://www.avatarmovie.com/</td>\n",
       "      <td>19995</td>\n",
       "      <td>[3d, alien, alienplanet, antiwar, battle, cgi,...</td>\n",
       "      <td>en</td>\n",
       "      <td>Avatar</td>\n",
       "      <td>In the 22nd century, a paraplegic Marine is di...</td>\n",
       "      <td>150.437577</td>\n",
       "      <td>...</td>\n",
       "      <td>[{\"iso_639_1\": \"en\", \"name\": \"English\"}, {\"iso...</td>\n",
       "      <td>Released</td>\n",
       "      <td>Enter the World of Pandora.</td>\n",
       "      <td>Avatar</td>\n",
       "      <td>7.2</td>\n",
       "      <td>11800</td>\n",
       "      <td>19995</td>\n",
       "      <td>Avatar</td>\n",
       "      <td>[MichelleRodriguez, SamWorthington, SigourneyW...</td>\n",
       "      <td>[ChristopherBoyes, ChristopherBoyes, JamesCame...</td>\n",
       "    </tr>\n",
       "    <tr>\n",
       "      <th>1</th>\n",
       "      <td>1</td>\n",
       "      <td>300000000</td>\n",
       "      <td>[Action, Adventure, Fantasy]</td>\n",
       "      <td>http://disney.go.com/disneypictures/pirates/</td>\n",
       "      <td>285</td>\n",
       "      <td>[\"loveofoneslife\", aftercreditsstinger, afterl...</td>\n",
       "      <td>en</td>\n",
       "      <td>Pirates of the Caribbean: At World's End</td>\n",
       "      <td>Captain Barbossa, long believed to be dead, ha...</td>\n",
       "      <td>139.082615</td>\n",
       "      <td>...</td>\n",
       "      <td>[{\"iso_639_1\": \"en\", \"name\": \"English\"}]</td>\n",
       "      <td>Released</td>\n",
       "      <td>At the end of the world, the adventure begins.</td>\n",
       "      <td>Pirates of the Caribbean: At World's End</td>\n",
       "      <td>6.9</td>\n",
       "      <td>4500</td>\n",
       "      <td>285</td>\n",
       "      <td>Pirates of the Caribbean: At World's End</td>\n",
       "      <td>[ChowYun-fat, JohnnyDepp, KeiraKnightley, Orla...</td>\n",
       "      <td>[CraigWood, DariuszWolski, EricMcLeod, GoreVer...</td>\n",
       "    </tr>\n",
       "    <tr>\n",
       "      <th>2</th>\n",
       "      <td>2</td>\n",
       "      <td>245000000</td>\n",
       "      <td>[Action, Adventure, Crime]</td>\n",
       "      <td>http://www.sonypictures.com/movies/spectre/</td>\n",
       "      <td>206647</td>\n",
       "      <td>[basedonnovel, britishsecretservice, mi6, secr...</td>\n",
       "      <td>en</td>\n",
       "      <td>Spectre</td>\n",
       "      <td>A cryptic message from Bond’s past sends him o...</td>\n",
       "      <td>107.376788</td>\n",
       "      <td>...</td>\n",
       "      <td>[{\"iso_639_1\": \"fr\", \"name\": \"Fran\\u00e7ais\"},...</td>\n",
       "      <td>Released</td>\n",
       "      <td>A Plan No One Escapes</td>\n",
       "      <td>Spectre</td>\n",
       "      <td>6.3</td>\n",
       "      <td>4466</td>\n",
       "      <td>206647</td>\n",
       "      <td>Spectre</td>\n",
       "      <td>[ChristophWaltz, DanielCraig, LéaSeydoux, Moni...</td>\n",
       "      <td>[AnnaPinnock, BillBernstein, DanielCraig, Denn...</td>\n",
       "    </tr>\n",
       "    <tr>\n",
       "      <th>3</th>\n",
       "      <td>3</td>\n",
       "      <td>250000000</td>\n",
       "      <td>[Action, Crime, Drama, Thriller]</td>\n",
       "      <td>http://www.thedarkknightrises.com/</td>\n",
       "      <td>49026</td>\n",
       "      <td>[batman, burglar, catburglar, catwoman, cover-...</td>\n",
       "      <td>en</td>\n",
       "      <td>The Dark Knight Rises</td>\n",
       "      <td>Following the death of District Attorney Harve...</td>\n",
       "      <td>112.312950</td>\n",
       "      <td>...</td>\n",
       "      <td>[{\"iso_639_1\": \"en\", \"name\": \"English\"}]</td>\n",
       "      <td>Released</td>\n",
       "      <td>The Legend Ends</td>\n",
       "      <td>The Dark Knight Rises</td>\n",
       "      <td>7.6</td>\n",
       "      <td>9106</td>\n",
       "      <td>49026</td>\n",
       "      <td>The Dark Knight Rises</td>\n",
       "      <td>[AnneHathaway, ChristianBale, GaryOldman, Mich...</td>\n",
       "      <td>[CharlesRoven, ChristopherNolan, ChristopherNo...</td>\n",
       "    </tr>\n",
       "    <tr>\n",
       "      <th>4</th>\n",
       "      <td>4</td>\n",
       "      <td>260000000</td>\n",
       "      <td>[Action, Adventure, ScienceFiction]</td>\n",
       "      <td>http://movies.disney.com/john-carter</td>\n",
       "      <td>49529</td>\n",
       "      <td>[19thcentury, 3d, alien, alienrace, basedonnov...</td>\n",
       "      <td>en</td>\n",
       "      <td>John Carter</td>\n",
       "      <td>John Carter is a war-weary, former military ca...</td>\n",
       "      <td>43.926995</td>\n",
       "      <td>...</td>\n",
       "      <td>[{\"iso_639_1\": \"en\", \"name\": \"English\"}]</td>\n",
       "      <td>Released</td>\n",
       "      <td>Lost in our world, found in another.</td>\n",
       "      <td>John Carter</td>\n",
       "      <td>6.1</td>\n",
       "      <td>2124</td>\n",
       "      <td>49529</td>\n",
       "      <td>John Carter</td>\n",
       "      <td>[LynnCollins, SamanthaMorton, TaylorKitsch, Th...</td>\n",
       "      <td>[AndrewStanton, AndrewStanton, ColinWilson, Er...</td>\n",
       "    </tr>\n",
       "  </tbody>\n",
       "</table>\n",
       "<p>5 rows × 25 columns</p>\n",
       "</div>"
      ],
      "text/plain": [
       "   Unnamed: 0     budget                                        genres  \\\n",
       "0           0  237000000  [Action, Adventure, Fantasy, ScienceFiction]   \n",
       "1           1  300000000                  [Action, Adventure, Fantasy]   \n",
       "2           2  245000000                    [Action, Adventure, Crime]   \n",
       "3           3  250000000              [Action, Crime, Drama, Thriller]   \n",
       "4           4  260000000           [Action, Adventure, ScienceFiction]   \n",
       "\n",
       "                                       homepage      id  \\\n",
       "0                   http://www.avatarmovie.com/   19995   \n",
       "1  http://disney.go.com/disneypictures/pirates/     285   \n",
       "2   http://www.sonypictures.com/movies/spectre/  206647   \n",
       "3            http://www.thedarkknightrises.com/   49026   \n",
       "4          http://movies.disney.com/john-carter   49529   \n",
       "\n",
       "                                            keywords original_language  \\\n",
       "0  [3d, alien, alienplanet, antiwar, battle, cgi,...                en   \n",
       "1  [\"loveofoneslife\", aftercreditsstinger, afterl...                en   \n",
       "2  [basedonnovel, britishsecretservice, mi6, secr...                en   \n",
       "3  [batman, burglar, catburglar, catwoman, cover-...                en   \n",
       "4  [19thcentury, 3d, alien, alienrace, basedonnov...                en   \n",
       "\n",
       "                             original_title  \\\n",
       "0                                    Avatar   \n",
       "1  Pirates of the Caribbean: At World's End   \n",
       "2                                   Spectre   \n",
       "3                     The Dark Knight Rises   \n",
       "4                               John Carter   \n",
       "\n",
       "                                            overview  popularity  ...  \\\n",
       "0  In the 22nd century, a paraplegic Marine is di...  150.437577  ...   \n",
       "1  Captain Barbossa, long believed to be dead, ha...  139.082615  ...   \n",
       "2  A cryptic message from Bond’s past sends him o...  107.376788  ...   \n",
       "3  Following the death of District Attorney Harve...  112.312950  ...   \n",
       "4  John Carter is a war-weary, former military ca...   43.926995  ...   \n",
       "\n",
       "                                    spoken_languages    status  \\\n",
       "0  [{\"iso_639_1\": \"en\", \"name\": \"English\"}, {\"iso...  Released   \n",
       "1           [{\"iso_639_1\": \"en\", \"name\": \"English\"}]  Released   \n",
       "2  [{\"iso_639_1\": \"fr\", \"name\": \"Fran\\u00e7ais\"},...  Released   \n",
       "3           [{\"iso_639_1\": \"en\", \"name\": \"English\"}]  Released   \n",
       "4           [{\"iso_639_1\": \"en\", \"name\": \"English\"}]  Released   \n",
       "\n",
       "                                          tagline  \\\n",
       "0                     Enter the World of Pandora.   \n",
       "1  At the end of the world, the adventure begins.   \n",
       "2                           A Plan No One Escapes   \n",
       "3                                 The Legend Ends   \n",
       "4            Lost in our world, found in another.   \n",
       "\n",
       "                                    title_x  vote_average vote_count movie_id  \\\n",
       "0                                    Avatar           7.2      11800    19995   \n",
       "1  Pirates of the Caribbean: At World's End           6.9       4500      285   \n",
       "2                                   Spectre           6.3       4466   206647   \n",
       "3                     The Dark Knight Rises           7.6       9106    49026   \n",
       "4                               John Carter           6.1       2124    49529   \n",
       "\n",
       "                                    title_y  \\\n",
       "0                                    Avatar   \n",
       "1  Pirates of the Caribbean: At World's End   \n",
       "2                                   Spectre   \n",
       "3                     The Dark Knight Rises   \n",
       "4                               John Carter   \n",
       "\n",
       "                                                cast  \\\n",
       "0  [MichelleRodriguez, SamWorthington, SigourneyW...   \n",
       "1  [ChowYun-fat, JohnnyDepp, KeiraKnightley, Orla...   \n",
       "2  [ChristophWaltz, DanielCraig, LéaSeydoux, Moni...   \n",
       "3  [AnneHathaway, ChristianBale, GaryOldman, Mich...   \n",
       "4  [LynnCollins, SamanthaMorton, TaylorKitsch, Th...   \n",
       "\n",
       "                                                crew  \n",
       "0  [ChristopherBoyes, ChristopherBoyes, JamesCame...  \n",
       "1  [CraigWood, DariuszWolski, EricMcLeod, GoreVer...  \n",
       "2  [AnnaPinnock, BillBernstein, DanielCraig, Denn...  \n",
       "3  [CharlesRoven, ChristopherNolan, ChristopherNo...  \n",
       "4  [AndrewStanton, AndrewStanton, ColinWilson, Er...  \n",
       "\n",
       "[5 rows x 25 columns]"
      ]
     },
     "execution_count": 11,
     "metadata": {},
     "output_type": "execute_result"
    }
   ],
   "source": [
    "movies.head()"
   ]
  },
  {
   "cell_type": "code",
   "execution_count": 12,
   "metadata": {
    "id": "Kvx05HssL3l1"
   },
   "outputs": [
    {
     "name": "stdout",
     "output_type": "stream",
     "text": [
      "Dropping 0 movies.\n"
     ]
    }
   ],
   "source": [
    "to_drop = []\n",
    "for i in movies.index:\n",
    "    if (movies['production_companies'][i] == [''] and movies['cast'][i] == [''] and \n",
    "        movies['crew'][i] == ['']):\n",
    "        to_drop.append(i)\n",
    "print('Dropping', str(len(to_drop)), 'movies.')\n",
    "movies = movies.drop(to_drop, axis = 0)"
   ]
  },
  {
   "cell_type": "code",
   "execution_count": 13,
   "metadata": {
    "id": "brsIxlsBL9Zh"
   },
   "outputs": [
    {
     "data": {
      "text/plain": [
       "1000"
      ]
     },
     "execution_count": 13,
     "metadata": {},
     "output_type": "execute_result"
    }
   ],
   "source": [
    "movies.shape[0]\n"
   ]
  },
  {
   "cell_type": "code",
   "execution_count": 14,
   "metadata": {
    "id": "VW47MQQoMDTr"
   },
   "outputs": [],
   "source": [
    "movies_shortened = movies[['id','original_title','genres','cast', 'crew', 'production_companies', 'keywords', 'vote_average']]"
   ]
  },
  {
   "cell_type": "code",
   "execution_count": 15,
   "metadata": {
    "id": "u3DzTqggMGnM"
   },
   "outputs": [
    {
     "data": {
      "text/html": [
       "<div>\n",
       "<style scoped>\n",
       "    .dataframe tbody tr th:only-of-type {\n",
       "        vertical-align: middle;\n",
       "    }\n",
       "\n",
       "    .dataframe tbody tr th {\n",
       "        vertical-align: top;\n",
       "    }\n",
       "\n",
       "    .dataframe thead th {\n",
       "        text-align: right;\n",
       "    }\n",
       "</style>\n",
       "<table border=\"1\" class=\"dataframe\">\n",
       "  <thead>\n",
       "    <tr style=\"text-align: right;\">\n",
       "      <th></th>\n",
       "      <th>id</th>\n",
       "      <th>original_title</th>\n",
       "      <th>genres</th>\n",
       "      <th>cast</th>\n",
       "      <th>crew</th>\n",
       "      <th>production_companies</th>\n",
       "      <th>keywords</th>\n",
       "      <th>vote_average</th>\n",
       "    </tr>\n",
       "  </thead>\n",
       "  <tbody>\n",
       "    <tr>\n",
       "      <th>72</th>\n",
       "      <td>297761</td>\n",
       "      <td>Suicide Squad</td>\n",
       "      <td>[Action, Adventure, Crime, Fantasy, ScienceFic...</td>\n",
       "      <td>[JaredLeto, JoelKinnaman, MargotRobbie, ViolaD...</td>\n",
       "      <td>[AlexKavanagh, BrandtGordon, CatherineHarper, ...</td>\n",
       "      <td>[AtlasEntertainment, DCComics, DCEntertainment...</td>\n",
       "      <td>[antihero, dccomics, dcextendeduniverse, secre...</td>\n",
       "      <td>5.9</td>\n",
       "    </tr>\n",
       "    <tr>\n",
       "      <th>166</th>\n",
       "      <td>72559</td>\n",
       "      <td>G.I. Joe: Retaliation</td>\n",
       "      <td>[Action, Adventure, ScienceFiction, Thriller]</td>\n",
       "      <td>[AdriannePalicki, BruceWillis, D.J.Cotrona, Dw...</td>\n",
       "      <td>[AndrewMenzies, BrianGoldner, GaryBarber, JimM...</td>\n",
       "      <td>[DiBonaventuraPictures, Hasbro, Metro-Goldwyn-...</td>\n",
       "      <td>[assassin, battle, cobra, conspiracy, explosio...</td>\n",
       "      <td>5.4</td>\n",
       "    </tr>\n",
       "    <tr>\n",
       "      <th>410</th>\n",
       "      <td>62764</td>\n",
       "      <td>Mirror Mirror</td>\n",
       "      <td>[Adventure, Comedy, Drama, Family, Fantasy, Sc...</td>\n",
       "      <td>[ArmieHammer, JuliaRoberts, LilyCollins, Marti...</td>\n",
       "      <td>[AlanMenken, BrendanGalvin, BrettRatner, Jacob...</td>\n",
       "      <td>[GoldmannPictures, MishaFilms, MisherFilms, Ra...</td>\n",
       "      <td>[attemptedmurder, blackmagic, cockroach, durin...</td>\n",
       "      <td>5.5</td>\n",
       "    </tr>\n",
       "    <tr>\n",
       "      <th>436</th>\n",
       "      <td>109418</td>\n",
       "      <td>Grown Ups 2</td>\n",
       "      <td>[Comedy]</td>\n",
       "      <td>[AdamSandler, ChrisRock, DavidSpade, KevinJame...</td>\n",
       "      <td>[AdamSandler, AdamSandler, AdamSandler, AllenC...</td>\n",
       "      <td>[ColumbiaPictures, HappyMadisonProductions, So...</td>\n",
       "      <td>[]</td>\n",
       "      <td>5.8</td>\n",
       "    </tr>\n",
       "    <tr>\n",
       "      <th>106</th>\n",
       "      <td>810</td>\n",
       "      <td>Shrek the Third</td>\n",
       "      <td>[Adventure, Animation, Comedy, Family, Fantasy]</td>\n",
       "      <td>[AntonioBanderas, CameronDiaz, EddieMurphy, Ju...</td>\n",
       "      <td>[AndrewAdamson, AronWarner, ChrisMiller, Guill...</td>\n",
       "      <td>[DreamWorksAnimation, DreamWorksSKG]</td>\n",
       "      <td>[\"coupdetat\", ambush, assault, bestfriend, boa...</td>\n",
       "      <td>6.0</td>\n",
       "    </tr>\n",
       "    <tr>\n",
       "      <th>533</th>\n",
       "      <td>9297</td>\n",
       "      <td>Monster House</td>\n",
       "      <td>[Animation, Comedy, Family, Fantasy]</td>\n",
       "      <td>[MitchelMusso, RyanNewman, SamLerner, SpencerL...</td>\n",
       "      <td>[EdVerreaux, GregPapalia, JackRapke, MayumiAra...</td>\n",
       "      <td>[AmblinEntertainment, ColumbiaPictures, ImageM...</td>\n",
       "      <td>[child, children, mission, monster, neighbor, ...</td>\n",
       "      <td>6.3</td>\n",
       "    </tr>\n",
       "    <tr>\n",
       "      <th>836</th>\n",
       "      <td>1729</td>\n",
       "      <td>The Forbidden Kingdom</td>\n",
       "      <td>[Action, Adventure, Fantasy]</td>\n",
       "      <td>[JackieChan, JetLi, LiBingbing, LiuYifei, Mich...</td>\n",
       "      <td>[CaseySilver, EricStrand, JohnFusco, NancyFoy,...</td>\n",
       "      <td>[CaseySilverProductions, ChinaFilmCo-Productio...</td>\n",
       "      <td>[monkeyking, shaolin, staff, teenager, tempel,...</td>\n",
       "      <td>6.3</td>\n",
       "    </tr>\n",
       "    <tr>\n",
       "      <th>586</th>\n",
       "      <td>152760</td>\n",
       "      <td>The Monuments Men</td>\n",
       "      <td>[Action, Drama, History, War]</td>\n",
       "      <td>[BillMurray, CateBlanchett, GeorgeClooney, Joh...</td>\n",
       "      <td>[AlexandreDesplat, ChristineBeveridge, GeorgeC...</td>\n",
       "      <td>[ColumbiaPictures, Fox2000Pictures, ObeliskPro...</td>\n",
       "      <td>[arttheft, nazis, postworldwarii, worldwarii]</td>\n",
       "      <td>5.8</td>\n",
       "    </tr>\n",
       "    <tr>\n",
       "      <th>182</th>\n",
       "      <td>102899</td>\n",
       "      <td>Ant-Man</td>\n",
       "      <td>[Action, Adventure, ScienceFiction]</td>\n",
       "      <td>[BobbyCannavale, CoreyStoll, EvangelineLilly, ...</td>\n",
       "      <td>[DavidFarmer, DavidLazan, JackieBurch, KevinFe...</td>\n",
       "      <td>[MarvelStudios]</td>\n",
       "      <td>[3d, aftercreditsstinger, basedoncomicbook, du...</td>\n",
       "      <td>7.0</td>\n",
       "    </tr>\n",
       "    <tr>\n",
       "      <th>26</th>\n",
       "      <td>271110</td>\n",
       "      <td>Captain America: Civil War</td>\n",
       "      <td>[Action, Adventure, ScienceFiction]</td>\n",
       "      <td>[AnthonyMackie, ChrisEvans, RobertDowneyJr., S...</td>\n",
       "      <td>[ChristopherMarkus, JuanPeralta, KevinFeige, R...</td>\n",
       "      <td>[DeluxeDigitalStudios, MarvelStudios, StudioBa...</td>\n",
       "      <td>[3d, aftercreditsstinger, basedoncomicbook, ci...</td>\n",
       "      <td>7.1</td>\n",
       "    </tr>\n",
       "  </tbody>\n",
       "</table>\n",
       "</div>"
      ],
      "text/plain": [
       "         id              original_title  \\\n",
       "72   297761               Suicide Squad   \n",
       "166   72559       G.I. Joe: Retaliation   \n",
       "410   62764               Mirror Mirror   \n",
       "436  109418                 Grown Ups 2   \n",
       "106     810             Shrek the Third   \n",
       "533    9297               Monster House   \n",
       "836    1729       The Forbidden Kingdom   \n",
       "586  152760           The Monuments Men   \n",
       "182  102899                     Ant-Man   \n",
       "26   271110  Captain America: Civil War   \n",
       "\n",
       "                                                genres  \\\n",
       "72   [Action, Adventure, Crime, Fantasy, ScienceFic...   \n",
       "166      [Action, Adventure, ScienceFiction, Thriller]   \n",
       "410  [Adventure, Comedy, Drama, Family, Fantasy, Sc...   \n",
       "436                                           [Comedy]   \n",
       "106    [Adventure, Animation, Comedy, Family, Fantasy]   \n",
       "533               [Animation, Comedy, Family, Fantasy]   \n",
       "836                       [Action, Adventure, Fantasy]   \n",
       "586                      [Action, Drama, History, War]   \n",
       "182                [Action, Adventure, ScienceFiction]   \n",
       "26                 [Action, Adventure, ScienceFiction]   \n",
       "\n",
       "                                                  cast  \\\n",
       "72   [JaredLeto, JoelKinnaman, MargotRobbie, ViolaD...   \n",
       "166  [AdriannePalicki, BruceWillis, D.J.Cotrona, Dw...   \n",
       "410  [ArmieHammer, JuliaRoberts, LilyCollins, Marti...   \n",
       "436  [AdamSandler, ChrisRock, DavidSpade, KevinJame...   \n",
       "106  [AntonioBanderas, CameronDiaz, EddieMurphy, Ju...   \n",
       "533  [MitchelMusso, RyanNewman, SamLerner, SpencerL...   \n",
       "836  [JackieChan, JetLi, LiBingbing, LiuYifei, Mich...   \n",
       "586  [BillMurray, CateBlanchett, GeorgeClooney, Joh...   \n",
       "182  [BobbyCannavale, CoreyStoll, EvangelineLilly, ...   \n",
       "26   [AnthonyMackie, ChrisEvans, RobertDowneyJr., S...   \n",
       "\n",
       "                                                  crew  \\\n",
       "72   [AlexKavanagh, BrandtGordon, CatherineHarper, ...   \n",
       "166  [AndrewMenzies, BrianGoldner, GaryBarber, JimM...   \n",
       "410  [AlanMenken, BrendanGalvin, BrettRatner, Jacob...   \n",
       "436  [AdamSandler, AdamSandler, AdamSandler, AllenC...   \n",
       "106  [AndrewAdamson, AronWarner, ChrisMiller, Guill...   \n",
       "533  [EdVerreaux, GregPapalia, JackRapke, MayumiAra...   \n",
       "836  [CaseySilver, EricStrand, JohnFusco, NancyFoy,...   \n",
       "586  [AlexandreDesplat, ChristineBeveridge, GeorgeC...   \n",
       "182  [DavidFarmer, DavidLazan, JackieBurch, KevinFe...   \n",
       "26   [ChristopherMarkus, JuanPeralta, KevinFeige, R...   \n",
       "\n",
       "                                  production_companies  \\\n",
       "72   [AtlasEntertainment, DCComics, DCEntertainment...   \n",
       "166  [DiBonaventuraPictures, Hasbro, Metro-Goldwyn-...   \n",
       "410  [GoldmannPictures, MishaFilms, MisherFilms, Ra...   \n",
       "436  [ColumbiaPictures, HappyMadisonProductions, So...   \n",
       "106               [DreamWorksAnimation, DreamWorksSKG]   \n",
       "533  [AmblinEntertainment, ColumbiaPictures, ImageM...   \n",
       "836  [CaseySilverProductions, ChinaFilmCo-Productio...   \n",
       "586  [ColumbiaPictures, Fox2000Pictures, ObeliskPro...   \n",
       "182                                    [MarvelStudios]   \n",
       "26   [DeluxeDigitalStudios, MarvelStudios, StudioBa...   \n",
       "\n",
       "                                              keywords  vote_average  \n",
       "72   [antihero, dccomics, dcextendeduniverse, secre...           5.9  \n",
       "166  [assassin, battle, cobra, conspiracy, explosio...           5.4  \n",
       "410  [attemptedmurder, blackmagic, cockroach, durin...           5.5  \n",
       "436                                                 []           5.8  \n",
       "106  [\"coupdetat\", ambush, assault, bestfriend, boa...           6.0  \n",
       "533  [child, children, mission, monster, neighbor, ...           6.3  \n",
       "836  [monkeyking, shaolin, staff, teenager, tempel,...           6.3  \n",
       "586      [arttheft, nazis, postworldwarii, worldwarii]           5.8  \n",
       "182  [3d, aftercreditsstinger, basedoncomicbook, du...           7.0  \n",
       "26   [3d, aftercreditsstinger, basedoncomicbook, ci...           7.1  "
      ]
     },
     "execution_count": 15,
     "metadata": {},
     "output_type": "execute_result"
    }
   ],
   "source": [
    "movies_shortened.sample(10)\n",
    "# movies_shortened = movies_shortened[['id', 'original_title', 'cast', 'crew', 'production_companies', 'keywords','vote_average']]"
   ]
  },
  {
   "cell_type": "code",
   "execution_count": 16,
   "metadata": {
    "id": "13KgDoDjMIpQ"
   },
   "outputs": [
    {
     "data": {
      "image/png": "[encoded data removed]",
      "text/plain": [
       "<Figure size 864x720 with 1 Axes>"
      ]
     },
     "metadata": {
      "needs_background": "light"
     },
     "output_type": "display_data"
    },
    {
     "name": "stdout",
     "output_type": "stream",
     "text": [
      "Minimum of Ratings: 3.0\n",
      "Maximum of Ratings: 8.3\n",
      "Average of Ratings: 6.22\n",
      "Variance of Ratings: 0.65\n"
     ]
    }
   ],
   "source": [
    "plt.subplots(figsize=(12,10))\n",
    "n, bins, patches = plt.hist(movies_shortened['vote_average'], 30, density=1, facecolor='g', alpha=0.75)\n",
    "\n",
    "plt.xlabel('Vote_average')\n",
    "plt.ylabel('Occurence')\n",
    "plt.title('Distribution of voter average')\n",
    "plt.grid(True)\n",
    "plt.show()\n",
    "print(\"Minimum of Ratings:\", round(min(movies_shortened['vote_average']),2))\n",
    "print(\"Maximum of Ratings:\", round(max(movies_shortened['vote_average']),2))\n",
    "print(\"Average of Ratings:\", round(np.mean(movies_shortened['vote_average']),2))\n",
    "print(\"Variance of Ratings:\",round(np.var(movies_shortened['vote_average']),2))"
   ]
  },
  {
   "cell_type": "code",
   "execution_count": 17,
   "metadata": {
    "id": "kJP2wByRMNPo"
   },
   "outputs": [],
   "source": [
    "def generate_list(df, feature_name): #create a list of all unique feature values\n",
    "    #Step 1: track all ratings associated with each feature in a dictionary\n",
    "    feature_dict = {}\n",
    "    for index, row in df.iterrows():\n",
    "        feat = row[feature_name]\n",
    "        for sub_feat in feat:\n",
    "            if sub_feat not in feature_dict:\n",
    "                feature_dict[sub_feat] = (df['vote_average'][index], 1) #\n",
    "            else:\n",
    "                feature_dict[sub_feat] = (feature_dict[sub_feat][0] + (df['vote_average'][index]), feature_dict[sub_feat][1] + 1)\n",
    "    #Step 2: calculate average ratings for each feature\n",
    "    for key in feature_dict:\n",
    "        feature_dict[key] = feature_dict[key][0]/feature_dict[key][1] #average of all vote_averages\n",
    "       \n",
    "    #Step 3: create and sort a list of tuples (dictionary value, key)\n",
    "    lst = list()\n",
    "    for name in feature_dict:\n",
    "        lst.append((feature_dict[name],name))\n",
    "    lst = sorted(lst)\n",
    "    #step 4: create a list of only the feature names, from lowest rating to highest rating\n",
    "    feature_list = list()\n",
    "    ratings_list = list()\n",
    "    for element in lst:\n",
    "        feature_list.append(element[1])\n",
    "        ratings_list.append(element[0])\n",
    "    \n",
    "    #get the variance of the ratings. This is helpful for determining the usefulness of the information (to be displayed in below plot)\n",
    "    var = round(np.var(ratings_list),3)\n",
    "    \n",
    "    #before returning the list, do a quick visualization to show that generate_list works\n",
    "    fig, ax = plt.subplots(figsize=(6,5))\n",
    "    if feature_name != 'genres':\n",
    "        n = 50 # sample at intervals of n\n",
    "    else:\n",
    "        n = 1\n",
    "    X = [] #sample for associated movie(s) rating average\n",
    "    Y = [] #sample for feature names\n",
    "    for i in range(0, len(feature_list) - 1, n):\n",
    "        X.append(ratings_list[i])\n",
    "        Y.append(feature_list[i])\n",
    "    \n",
    "    y_pos = np.arange(len(Y))\n",
    "    ax.barh(y_pos, X, align='center')\n",
    "    #ax.set_yticklabels(Y)\n",
    "    ax.invert_yaxis()  # labels read top-to-bottom\n",
    "    \n",
    "    ax.set_xlabel('Overall average movie ratings')\n",
    "    ax.set_ylabel(feature_name + ' sample list index')\n",
    "    ax.set_title(feature_name + ' to associated movie(s) performance (' + str(int(len(feature_list)/n)) + ' samples), variance: ' + str(var))\n",
    "    \n",
    "    plt.show()\n",
    "    \n",
    "    return feature_list"
   ]
  },
  {
   "cell_type": "code",
   "execution_count": 18,
   "metadata": {
    "id": "HrCxWRIRMSnj"
   },
   "outputs": [
    {
     "data": {
      "image/png": "[encoded data removed]",
      "text/plain": [
       "<Figure size 432x360 with 1 Axes>"
      ]
     },
     "metadata": {
      "needs_background": "light"
     },
     "output_type": "display_data"
    }
   ],
   "source": [
    "genres_list = generate_list(movies_shortened, 'genres')"
   ]
  },
  {
   "cell_type": "code",
   "execution_count": 19,
   "metadata": {
    "id": "HfK_kZzFMVkj"
   },
   "outputs": [
    {
     "data": {
      "image/png": "[encoded data removed]",
      "text/plain": [
       "<Figure size 432x360 with 1 Axes>"
      ]
     },
     "metadata": {
      "needs_background": "light"
     },
     "output_type": "display_data"
    }
   ],
   "source": [
    "cast_list = generate_list(movies_shortened, 'cast')"
   ]
  },
  {
   "cell_type": "code",
   "execution_count": 20,
   "metadata": {
    "id": "vaDJBw-XMXxC"
   },
   "outputs": [
    {
     "data": {
      "image/png": "[encoded data removed]",
      "text/plain": [
       "<Figure size 432x360 with 1 Axes>"
      ]
     },
     "metadata": {
      "needs_background": "light"
     },
     "output_type": "display_data"
    }
   ],
   "source": [
    "crew_list = generate_list(movies_shortened, 'crew')"
   ]
  },
  {
   "cell_type": "code",
   "execution_count": 21,
   "metadata": {
    "id": "oW6RtzcfMav5"
   },
   "outputs": [
    {
     "data": {
      "image/png": "[encoded data removed]",
      "text/plain": [
       "<Figure size 432x360 with 1 Axes>"
      ]
     },
     "metadata": {
      "needs_background": "light"
     },
     "output_type": "display_data"
    }
   ],
   "source": [
    "prod_companies_list = generate_list(movies_shortened, 'production_companies')"
   ]
  },
  {
   "cell_type": "code",
   "execution_count": 22,
   "metadata": {
    "id": "E092SkWqMdIY"
   },
   "outputs": [
    {
     "data": {
      "image/png": "[encoded data removed]",
      "text/plain": [
       "<Figure size 432x360 with 1 Axes>"
      ]
     },
     "metadata": {
      "needs_background": "light"
     },
     "output_type": "display_data"
    }
   ],
   "source": [
    "keywords_list = generate_list(movies_shortened, 'keywords')"
   ]
  },
  {
   "cell_type": "code",
   "execution_count": 23,
   "metadata": {
    "id": "zjlg0y7TMfgl"
   },
   "outputs": [],
   "source": [
    "movies_shortened = movies_shortened[['id', 'original_title', 'cast', 'crew', 'production_companies', 'keywords','vote_average']]"
   ]
  },
  {
   "cell_type": "code",
   "execution_count": 24,
   "metadata": {
    "id": "_vx6sHqSMhjb"
   },
   "outputs": [],
   "source": [
    "def calculate_bin_array(this_list, all_features):\n",
    "    bin_list = []\n",
    "    for element in all_features:\n",
    "        if element in this_list:\n",
    "            bin_list.append(1)\n",
    "        else:\n",
    "            bin_list.append(0)\n",
    "    return bin_list"
   ]
  },
  {
   "cell_type": "code",
   "execution_count": 25,
   "metadata": {
    "id": "vlzLZYDnMkdI"
   },
   "outputs": [],
   "source": [
    "movies_shortened['cast'] = movies_shortened['cast'].apply(lambda x: calculate_bin_array(x, cast_list))"
   ]
  },
  {
   "cell_type": "code",
   "execution_count": 26,
   "metadata": {
    "id": "BgstE2TtMl_a"
   },
   "outputs": [],
   "source": [
    "movies_shortened['crew'] = movies_shortened['crew'].apply(lambda x: calculate_bin_array(x, crew_list))"
   ]
  },
  {
   "cell_type": "code",
   "execution_count": 27,
   "metadata": {
    "id": "UXoVQIbqMpW3"
   },
   "outputs": [],
   "source": [
    "movies_shortened['production_companies'] = \\\n",
    "  movies_shortened['production_companies'].apply(lambda x: calculate_bin_array(x, prod_companies_list))"
   ]
  },
  {
   "cell_type": "code",
   "execution_count": 28,
   "metadata": {
    "id": "ZcMy8h0fMtj6"
   },
   "outputs": [],
   "source": [
    "movies_shortened['keywords'] = \\\n",
    " movies_shortened['keywords'].apply(lambda x: calculate_bin_array(x, keywords_list))"
   ]
  },
  {
   "cell_type": "code",
   "execution_count": 29,
   "metadata": {
    "id": "p8yHCHIIMw30"
   },
   "outputs": [
    {
     "data": {
      "text/html": [
       "<div>\n",
       "<style scoped>\n",
       "    .dataframe tbody tr th:only-of-type {\n",
       "        vertical-align: middle;\n",
       "    }\n",
       "\n",
       "    .dataframe tbody tr th {\n",
       "        vertical-align: top;\n",
       "    }\n",
       "\n",
       "    .dataframe thead th {\n",
       "        text-align: right;\n",
       "    }\n",
       "</style>\n",
       "<table border=\"1\" class=\"dataframe\">\n",
       "  <thead>\n",
       "    <tr style=\"text-align: right;\">\n",
       "      <th></th>\n",
       "      <th>id</th>\n",
       "      <th>original_title</th>\n",
       "      <th>cast</th>\n",
       "      <th>crew</th>\n",
       "      <th>production_companies</th>\n",
       "      <th>keywords</th>\n",
       "      <th>vote_average</th>\n",
       "    </tr>\n",
       "  </thead>\n",
       "  <tbody>\n",
       "    <tr>\n",
       "      <th>35</th>\n",
       "      <td>8373</td>\n",
       "      <td>Transformers: Revenge of the Fallen</td>\n",
       "      <td>[0, 0, 0, 0, 0, 0, 0, 0, 0, 0, 0, 0, 0, 0, 0, ...</td>\n",
       "      <td>[0, 0, 0, 0, 0, 0, 0, 0, 0, 0, 0, 0, 0, 0, 0, ...</td>\n",
       "      <td>[0, 0, 0, 0, 0, 0, 0, 0, 0, 0, 0, 0, 0, 0, 0, ...</td>\n",
       "      <td>[0, 0, 0, 0, 0, 0, 0, 0, 0, 0, 0, 0, 0, 0, 0, ...</td>\n",
       "      <td>6.0</td>\n",
       "    </tr>\n",
       "    <tr>\n",
       "      <th>674</th>\n",
       "      <td>16577</td>\n",
       "      <td>Astro Boy</td>\n",
       "      <td>[0, 0, 0, 0, 0, 0, 0, 0, 0, 0, 0, 0, 0, 0, 0, ...</td>\n",
       "      <td>[0, 0, 0, 0, 0, 0, 0, 0, 0, 0, 0, 0, 0, 0, 0, ...</td>\n",
       "      <td>[0, 0, 0, 0, 0, 0, 0, 0, 0, 0, 0, 0, 0, 0, 0, ...</td>\n",
       "      <td>[0, 0, 0, 0, 0, 0, 0, 0, 0, 0, 0, 0, 0, 0, 0, ...</td>\n",
       "      <td>6.1</td>\n",
       "    </tr>\n",
       "    <tr>\n",
       "      <th>688</th>\n",
       "      <td>693</td>\n",
       "      <td>Meet the Fockers</td>\n",
       "      <td>[0, 0, 0, 0, 0, 0, 0, 0, 0, 0, 0, 0, 0, 0, 0, ...</td>\n",
       "      <td>[0, 0, 0, 0, 0, 0, 0, 0, 0, 0, 0, 0, 0, 0, 0, ...</td>\n",
       "      <td>[0, 0, 0, 0, 0, 0, 0, 0, 0, 0, 0, 0, 0, 0, 0, ...</td>\n",
       "      <td>[0, 0, 0, 0, 0, 0, 0, 0, 0, 0, 0, 0, 0, 0, 0, ...</td>\n",
       "      <td>6.1</td>\n",
       "    </tr>\n",
       "    <tr>\n",
       "      <th>269</th>\n",
       "      <td>10198</td>\n",
       "      <td>The Princess and the Frog</td>\n",
       "      <td>[0, 0, 0, 0, 0, 0, 0, 0, 0, 0, 0, 0, 0, 0, 0, ...</td>\n",
       "      <td>[0, 0, 0, 0, 0, 0, 0, 0, 0, 0, 0, 0, 0, 0, 0, ...</td>\n",
       "      <td>[0, 0, 0, 0, 0, 0, 0, 0, 0, 0, 0, 0, 0, 0, 0, ...</td>\n",
       "      <td>[0, 0, 0, 0, 0, 0, 0, 0, 0, 0, 0, 0, 0, 0, 0, ...</td>\n",
       "      <td>6.7</td>\n",
       "    </tr>\n",
       "    <tr>\n",
       "      <th>154</th>\n",
       "      <td>81188</td>\n",
       "      <td>Rise of the Guardians</td>\n",
       "      <td>[0, 0, 0, 0, 0, 0, 0, 0, 0, 0, 0, 0, 0, 0, 0, ...</td>\n",
       "      <td>[0, 0, 0, 0, 0, 0, 0, 0, 0, 0, 0, 0, 0, 0, 0, ...</td>\n",
       "      <td>[0, 0, 0, 0, 0, 0, 0, 0, 0, 0, 0, 0, 0, 0, 0, ...</td>\n",
       "      <td>[0, 0, 0, 0, 0, 0, 0, 0, 0, 0, 0, 0, 0, 0, 0, ...</td>\n",
       "      <td>7.1</td>\n",
       "    </tr>\n",
       "    <tr>\n",
       "      <th>348</th>\n",
       "      <td>8355</td>\n",
       "      <td>Ice Age: Dawn of the Dinosaurs</td>\n",
       "      <td>[0, 0, 0, 0, 0, 0, 0, 0, 0, 0, 0, 0, 0, 0, 0, ...</td>\n",
       "      <td>[0, 0, 0, 0, 0, 0, 0, 0, 0, 0, 0, 0, 0, 0, 0, ...</td>\n",
       "      <td>[0, 0, 0, 0, 0, 0, 0, 0, 0, 0, 0, 0, 0, 0, 0, ...</td>\n",
       "      <td>[0, 0, 0, 0, 0, 0, 0, 0, 0, 0, 0, 0, 0, 0, 0, ...</td>\n",
       "      <td>6.5</td>\n",
       "    </tr>\n",
       "    <tr>\n",
       "      <th>300</th>\n",
       "      <td>563</td>\n",
       "      <td>Starship Troopers</td>\n",
       "      <td>[0, 0, 0, 0, 0, 0, 0, 0, 0, 0, 0, 0, 0, 0, 0, ...</td>\n",
       "      <td>[0, 0, 0, 0, 0, 0, 0, 0, 0, 0, 0, 0, 0, 0, 0, ...</td>\n",
       "      <td>[0, 0, 0, 0, 0, 0, 0, 0, 0, 0, 0, 0, 0, 0, 0, ...</td>\n",
       "      <td>[0, 0, 0, 0, 0, 0, 0, 0, 0, 0, 0, 0, 0, 0, 0, ...</td>\n",
       "      <td>6.7</td>\n",
       "    </tr>\n",
       "    <tr>\n",
       "      <th>526</th>\n",
       "      <td>1125</td>\n",
       "      <td>Dreamgirls</td>\n",
       "      <td>[0, 0, 0, 0, 0, 0, 0, 0, 0, 0, 0, 0, 0, 0, 0, ...</td>\n",
       "      <td>[0, 0, 0, 0, 0, 0, 0, 0, 0, 0, 0, 0, 0, 0, 0, ...</td>\n",
       "      <td>[0, 0, 0, 0, 0, 0, 0, 0, 0, 0, 0, 0, 0, 0, 0, ...</td>\n",
       "      <td>[0, 0, 0, 0, 0, 0, 0, 0, 0, 0, 0, 0, 0, 0, 0, ...</td>\n",
       "      <td>6.6</td>\n",
       "    </tr>\n",
       "    <tr>\n",
       "      <th>122</th>\n",
       "      <td>2080</td>\n",
       "      <td>X-Men Origins: Wolverine</td>\n",
       "      <td>[0, 0, 0, 0, 0, 0, 0, 0, 0, 0, 0, 0, 0, 0, 0, ...</td>\n",
       "      <td>[0, 0, 0, 0, 0, 0, 0, 0, 0, 0, 0, 0, 0, 0, 0, ...</td>\n",
       "      <td>[0, 0, 0, 0, 0, 0, 0, 0, 0, 0, 0, 0, 0, 0, 0, ...</td>\n",
       "      <td>[0, 0, 0, 0, 0, 0, 0, 0, 0, 0, 0, 0, 0, 0, 0, ...</td>\n",
       "      <td>6.2</td>\n",
       "    </tr>\n",
       "    <tr>\n",
       "      <th>935</th>\n",
       "      <td>11451</td>\n",
       "      <td>Herbie Fully Loaded</td>\n",
       "      <td>[0, 0, 0, 0, 0, 0, 0, 0, 0, 0, 0, 0, 0, 0, 0, ...</td>\n",
       "      <td>[0, 0, 0, 0, 0, 0, 0, 0, 0, 0, 0, 0, 0, 0, 0, ...</td>\n",
       "      <td>[0, 0, 0, 0, 0, 0, 0, 0, 0, 0, 0, 0, 0, 0, 0, ...</td>\n",
       "      <td>[0, 0, 0, 0, 0, 0, 0, 0, 0, 0, 0, 0, 0, 0, 0, ...</td>\n",
       "      <td>5.1</td>\n",
       "    </tr>\n",
       "  </tbody>\n",
       "</table>\n",
       "</div>"
      ],
      "text/plain": [
       "        id                       original_title  \\\n",
       "35    8373  Transformers: Revenge of the Fallen   \n",
       "674  16577                            Astro Boy   \n",
       "688    693                     Meet the Fockers   \n",
       "269  10198            The Princess and the Frog   \n",
       "154  81188                Rise of the Guardians   \n",
       "348   8355       Ice Age: Dawn of the Dinosaurs   \n",
       "300    563                    Starship Troopers   \n",
       "526   1125                           Dreamgirls   \n",
       "122   2080             X-Men Origins: Wolverine   \n",
       "935  11451                  Herbie Fully Loaded   \n",
       "\n",
       "                                                  cast  \\\n",
       "35   [0, 0, 0, 0, 0, 0, 0, 0, 0, 0, 0, 0, 0, 0, 0, ...   \n",
       "674  [0, 0, 0, 0, 0, 0, 0, 0, 0, 0, 0, 0, 0, 0, 0, ...   \n",
       "688  [0, 0, 0, 0, 0, 0, 0, 0, 0, 0, 0, 0, 0, 0, 0, ...   \n",
       "269  [0, 0, 0, 0, 0, 0, 0, 0, 0, 0, 0, 0, 0, 0, 0, ...   \n",
       "154  [0, 0, 0, 0, 0, 0, 0, 0, 0, 0, 0, 0, 0, 0, 0, ...   \n",
       "348  [0, 0, 0, 0, 0, 0, 0, 0, 0, 0, 0, 0, 0, 0, 0, ...   \n",
       "300  [0, 0, 0, 0, 0, 0, 0, 0, 0, 0, 0, 0, 0, 0, 0, ...   \n",
       "526  [0, 0, 0, 0, 0, 0, 0, 0, 0, 0, 0, 0, 0, 0, 0, ...   \n",
       "122  [0, 0, 0, 0, 0, 0, 0, 0, 0, 0, 0, 0, 0, 0, 0, ...   \n",
       "935  [0, 0, 0, 0, 0, 0, 0, 0, 0, 0, 0, 0, 0, 0, 0, ...   \n",
       "\n",
       "                                                  crew  \\\n",
       "35   [0, 0, 0, 0, 0, 0, 0, 0, 0, 0, 0, 0, 0, 0, 0, ...   \n",
       "674  [0, 0, 0, 0, 0, 0, 0, 0, 0, 0, 0, 0, 0, 0, 0, ...   \n",
       "688  [0, 0, 0, 0, 0, 0, 0, 0, 0, 0, 0, 0, 0, 0, 0, ...   \n",
       "269  [0, 0, 0, 0, 0, 0, 0, 0, 0, 0, 0, 0, 0, 0, 0, ...   \n",
       "154  [0, 0, 0, 0, 0, 0, 0, 0, 0, 0, 0, 0, 0, 0, 0, ...   \n",
       "348  [0, 0, 0, 0, 0, 0, 0, 0, 0, 0, 0, 0, 0, 0, 0, ...   \n",
       "300  [0, 0, 0, 0, 0, 0, 0, 0, 0, 0, 0, 0, 0, 0, 0, ...   \n",
       "526  [0, 0, 0, 0, 0, 0, 0, 0, 0, 0, 0, 0, 0, 0, 0, ...   \n",
       "122  [0, 0, 0, 0, 0, 0, 0, 0, 0, 0, 0, 0, 0, 0, 0, ...   \n",
       "935  [0, 0, 0, 0, 0, 0, 0, 0, 0, 0, 0, 0, 0, 0, 0, ...   \n",
       "\n",
       "                                  production_companies  \\\n",
       "35   [0, 0, 0, 0, 0, 0, 0, 0, 0, 0, 0, 0, 0, 0, 0, ...   \n",
       "674  [0, 0, 0, 0, 0, 0, 0, 0, 0, 0, 0, 0, 0, 0, 0, ...   \n",
       "688  [0, 0, 0, 0, 0, 0, 0, 0, 0, 0, 0, 0, 0, 0, 0, ...   \n",
       "269  [0, 0, 0, 0, 0, 0, 0, 0, 0, 0, 0, 0, 0, 0, 0, ...   \n",
       "154  [0, 0, 0, 0, 0, 0, 0, 0, 0, 0, 0, 0, 0, 0, 0, ...   \n",
       "348  [0, 0, 0, 0, 0, 0, 0, 0, 0, 0, 0, 0, 0, 0, 0, ...   \n",
       "300  [0, 0, 0, 0, 0, 0, 0, 0, 0, 0, 0, 0, 0, 0, 0, ...   \n",
       "526  [0, 0, 0, 0, 0, 0, 0, 0, 0, 0, 0, 0, 0, 0, 0, ...   \n",
       "122  [0, 0, 0, 0, 0, 0, 0, 0, 0, 0, 0, 0, 0, 0, 0, ...   \n",
       "935  [0, 0, 0, 0, 0, 0, 0, 0, 0, 0, 0, 0, 0, 0, 0, ...   \n",
       "\n",
       "                                              keywords  vote_average  \n",
       "35   [0, 0, 0, 0, 0, 0, 0, 0, 0, 0, 0, 0, 0, 0, 0, ...           6.0  \n",
       "674  [0, 0, 0, 0, 0, 0, 0, 0, 0, 0, 0, 0, 0, 0, 0, ...           6.1  \n",
       "688  [0, 0, 0, 0, 0, 0, 0, 0, 0, 0, 0, 0, 0, 0, 0, ...           6.1  \n",
       "269  [0, 0, 0, 0, 0, 0, 0, 0, 0, 0, 0, 0, 0, 0, 0, ...           6.7  \n",
       "154  [0, 0, 0, 0, 0, 0, 0, 0, 0, 0, 0, 0, 0, 0, 0, ...           7.1  \n",
       "348  [0, 0, 0, 0, 0, 0, 0, 0, 0, 0, 0, 0, 0, 0, 0, ...           6.5  \n",
       "300  [0, 0, 0, 0, 0, 0, 0, 0, 0, 0, 0, 0, 0, 0, 0, ...           6.7  \n",
       "526  [0, 0, 0, 0, 0, 0, 0, 0, 0, 0, 0, 0, 0, 0, 0, ...           6.6  \n",
       "122  [0, 0, 0, 0, 0, 0, 0, 0, 0, 0, 0, 0, 0, 0, 0, ...           6.2  \n",
       "935  [0, 0, 0, 0, 0, 0, 0, 0, 0, 0, 0, 0, 0, 0, 0, ...           5.1  "
      ]
     },
     "execution_count": 29,
     "metadata": {},
     "output_type": "execute_result"
    }
   ],
   "source": [
    "movies_shortened.sample(10)"
   ]
  },
  {
   "cell_type": "code",
   "execution_count": 30,
   "metadata": {
    "id": "Lq0lrrzxM0yX"
   },
   "outputs": [],
   "source": [
    "def plot_bin(mov):\n",
    "    cast_bin = mov[2]\n",
    "    cast_index = []\n",
    "    # create arrays of indeces where bin number is one\n",
    "    for i in range(len(cast_bin)):\n",
    "        if cast_bin[i] == 1:\n",
    "            cast_index.append(i)\n",
    "    \n",
    "    crew_bin = mov[3]\n",
    "    crew_index = []\n",
    "    for i in range(len(crew_bin)):\n",
    "        if crew_bin[i] == 1:\n",
    "            crew_index.append(i)\n",
    "    \n",
    "    prod_bin = mov[4]\n",
    "    prod_index = []\n",
    "    for i in range(len(prod_bin)):\n",
    "        if prod_bin[i] == 1:\n",
    "            prod_index.append(i)\n",
    "    \n",
    "    keywords_bin = mov[5]\n",
    "    keywords_index = []\n",
    "    for i in range(len(keywords_bin)):\n",
    "        if keywords_bin[i] == 1:\n",
    "            keywords_index.append(i)\n",
    "    \n",
    "    font = {'family': 'serif',\n",
    "        'color':  'red',\n",
    "        'weight': 'normal',\n",
    "        'size': 10,\n",
    "        }\n",
    "    \n",
    "    fig, ax = plt.subplots(4,1,figsize=(5,1))\n",
    "    plt.subplots_adjust(hspace = 5)\n",
    "    ax[0].scatter(cast_index, np.zeros_like(cast_index), vmin=-2)\n",
    "    ax[0].set_title('Cast', loc = 'left', fontdict=font)\n",
    "    ax[0].set_xlim(0,len(cast_bin))\n",
    "    ax[0].set_yticks([])\n",
    "    ax[0].set_xticks([])\n",
    "    \n",
    "    ax[1].scatter(crew_index, np.zeros_like(crew_index), vmin=-2)\n",
    "    ax[1].set_title('Crew', loc = 'left', fontdict=font)\n",
    "    ax[1].set_xlim(0,len(crew_bin))\n",
    "    ax[1].set_yticks([])\n",
    "    ax[1].set_xticks([])\n",
    "    \n",
    "    ax[2].scatter(prod_index, np.zeros_like(prod_index), vmin=-2)\n",
    "    ax[2].set_title('Production companies', loc = 'left', fontdict=font)\n",
    "    ax[2].set_xlim(0,len(prod_bin))\n",
    "    ax[2].set_yticks([])\n",
    "    ax[2].set_xticks([])\n",
    "    \n",
    "    ax[3].scatter(keywords_index, np.zeros_like(keywords_index), vmin=-2)\n",
    "    ax[3].set_title('Keywords', loc = 'left', fontdict=font)\n",
    "    ax[3].set_xlim(0,len(keywords_bin))\n",
    "    ax[3].set_yticks([])\n",
    "    ax[3].set_xticks([])"
   ]
  },
  {
   "cell_type": "code",
   "execution_count": 31,
   "metadata": {
    "id": "TC-9QAk6M4-9"
   },
   "outputs": [],
   "source": [
    "movies_sample = movies_shortened.sample(5)"
   ]
  },
  {
   "cell_type": "code",
   "execution_count": 32,
   "metadata": {
    "id": "FbtZtOY_M67T"
   },
   "outputs": [
    {
     "name": "stdout",
     "output_type": "stream",
     "text": [
      "Movie: The Great Gatsby\n",
      "Rating: 7.3\n",
      "\n"
     ]
    },
    {
     "data": {
      "image/png": "[encoded data removed]",
      "text/plain": [
       "<Figure size 360x72 with 4 Axes>"
      ]
     },
     "metadata": {},
     "output_type": "display_data"
    }
   ],
   "source": [
    "print('Movie: ' + movies_sample.iloc[0][1] + '\\nRating: ' + str(movies_sample.iloc[0][-1]) + '\\n')\n",
    "plot_bin(movies_sample.iloc[0])"
   ]
  },
  {
   "cell_type": "code",
   "execution_count": 33,
   "metadata": {
    "id": "iFzdj2H7M8ds"
   },
   "outputs": [
    {
     "name": "stdout",
     "output_type": "stream",
     "text": [
      "Movie:Monkeybone\n",
      "Rating: 4.3\n",
      "\n"
     ]
    },
    {
     "data": {
      "image/png": "[encoded data removed]",
      "text/plain": [
       "<Figure size 360x72 with 4 Axes>"
      ]
     },
     "metadata": {},
     "output_type": "display_data"
    }
   ],
   "source": [
    "print('Movie:' + movies_sample.iloc[1][1] + '\\nRating: ' + str(movies_sample.iloc[1][-1]) + '\\n')\n",
    "plot_bin(movies_sample.iloc[1])"
   ]
  },
  {
   "cell_type": "code",
   "execution_count": 34,
   "metadata": {
    "id": "iNJdrX1nNPnT"
   },
   "outputs": [
    {
     "name": "stdout",
     "output_type": "stream",
     "text": [
      "Movie:The Scorpion King\n",
      "Rating: 5.3\n",
      "\n"
     ]
    },
    {
     "data": {
      "image/png": "[encoded data removed]",
      "text/plain": [
       "<Figure size 360x72 with 4 Axes>"
      ]
     },
     "metadata": {},
     "output_type": "display_data"
    }
   ],
   "source": [
    "print('Movie:' + movies_sample.iloc[2][1] + '\\nRating: ' + str(movies_sample.iloc[2][-1]) + '\\n')\n",
    "plot_bin(movies_sample.iloc[2])"
   ]
  },
  {
   "cell_type": "code",
   "execution_count": 35,
   "metadata": {
    "id": "l4fH2N5dNScb"
   },
   "outputs": [
    {
     "name": "stdout",
     "output_type": "stream",
     "text": [
      "Movie:Transformers: Age of Extinction\n",
      "Rating: 5.8\n",
      "\n"
     ]
    },
    {
     "data": {
      "image/png": "[encoded data removed]",
      "text/plain": [
       "<Figure size 360x72 with 4 Axes>"
      ]
     },
     "metadata": {},
     "output_type": "display_data"
    }
   ],
   "source": [
    "print('Movie:' + movies_sample.iloc[3][1] + '\\nRating: ' + str(movies_sample.iloc[3][-1]) + '\\n')\n",
    "plot_bin(movies_sample.iloc[3])"
   ]
  },
  {
   "cell_type": "code",
   "execution_count": 36,
   "metadata": {
    "id": "o8cRbn28NU9f"
   },
   "outputs": [
    {
     "name": "stdout",
     "output_type": "stream",
     "text": [
      "Movie:Daddy's Home\n",
      "Rating: 5.8\n",
      "\n"
     ]
    },
    {
     "data": {
      "image/png": "[encoded data removed]",
      "text/plain": [
       "<Figure size 360x72 with 4 Axes>"
      ]
     },
     "metadata": {},
     "output_type": "display_data"
    }
   ],
   "source": [
    "print('Movie:' + movies_sample.iloc[4][1] + '\\nRating: ' + str(movies_sample.iloc[4][-1]) + '\\n')\n",
    "plot_bin(movies_sample.iloc[4])"
   ]
  },
  {
   "cell_type": "code",
   "execution_count": 37,
   "metadata": {
    "id": "_fjSnB7VNaef"
   },
   "outputs": [],
   "source": [
    "# def to_concentrations(df, feature_names):\n",
    "#     for feature_name in feature_names:\n",
    "#         print('feature: ', feature_name)\n",
    "#         df[feature_name] = df[feature_name].apply(lambda x: find_concentration(x))\n",
    "#     return df\n"
   ]
  },
  {
   "cell_type": "code",
   "execution_count": 38,
   "metadata": {
    "id": "0vnzG3X0Ncnl"
   },
   "outputs": [],
   "source": [
    "# movies_shortened = to_concentrations(movies_shortened, ['cast', 'crew', 'production_companies', 'keywords'])"
   ]
  },
  {
   "cell_type": "code",
   "execution_count": 39,
   "metadata": {
    "id": "s_d8nga1Necp"
   },
   "outputs": [],
   "source": [
    "# movies_shortened.sample(10)"
   ]
  },
  {
   "cell_type": "code",
   "execution_count": 40,
   "metadata": {
    "id": "gs7jMjL5NiVw"
   },
   "outputs": [],
   "source": [
    "# def w_avg(arr):\n",
    "#     weight = 0 #weight\n",
    "#     s = 0 # position*weight\n",
    "#     for element in arr:\n",
    "#         s += (element[0] * element[1])\n",
    "#         weight += element[1]\n",
    "#     return s/weight #weighted average"
   ]
  },
  {
   "cell_type": "code",
   "execution_count": 41,
   "metadata": {
    "id": "Dwln7xJF9Rze"
   },
   "outputs": [],
   "source": [
    "def w_avg1(arr):\n",
    "  weight = 0\n",
    "  cnt = 0\n",
    "  for i in range(len(arr)):\n",
    "    if arr[i] == 1:\n",
    "      weight = weight+i\n",
    "      cnt = cnt + 1\n",
    "  return weight/cnt"
   ]
  },
  {
   "cell_type": "code",
   "execution_count": 42,
   "metadata": {
    "id": "4hb9Rt_eKogT"
   },
   "outputs": [],
   "source": [
    "def w_avg2(data, columnName):\n",
    "    names = data[['vote_average', columnName]]\n",
    "    my_dict = {}\n",
    "    n = len(names)\n",
    "    for i in range(n):\n",
    "        avgR, name = names.iloc[i,:]\n",
    "        # if type(name) == str:\n",
    "        #     avgR = float(avgR)\n",
    "        #     name = name.split(',')\n",
    "        for s in name:\n",
    "            if s not in my_dict.keys():\n",
    "                my_dict[s] = [avgR, 1]\n",
    "            else:\n",
    "                a = my_dict[s]\n",
    "                a = [avgR + a[0], a[1] + 1]\n",
    "                my_dict[s] = a\n",
    "    for a in my_dict:\n",
    "        score, n = my_dict[a]\n",
    "        my_dict[a] = score/n\n",
    "    n = len(data)\n",
    "    data['score_'+columnName] =  pd.Series(np.zeros(n), index=data.index)\n",
    "    score_name = 'score_'+columnName\n",
    "    for i in range(n):\n",
    "        name = data.at[i,columnName]\n",
    "        # if type(name) == str:\n",
    "        #     name = name.split(',')\n",
    "        for s in name:\n",
    "            data.at[i,score_name] = data.at[i,score_name] + my_dict[s]\n",
    "        data.at[i,score_name] = data.at[i,score_name]"
   ]
  },
  {
   "cell_type": "markdown",
   "metadata": {
    "id": "D0ZTEv_Z_Tjo"
   },
   "source": []
  },
  {
   "cell_type": "code",
   "execution_count": 43,
   "metadata": {
    "id": "B-xIHBpINt-h"
   },
   "outputs": [],
   "source": [
    "def to_weighted_avg1(df, feature_names):\n",
    "    for feature_name in feature_names:\n",
    "        print('Current: ', feature_name)\n",
    "        df[feature_name] = df[feature_name].apply(lambda x: w_avg1(x))\n",
    "    return df"
   ]
  },
  {
   "cell_type": "code",
   "execution_count": 44,
   "metadata": {
    "id": "EhYjIf8zLcQa"
   },
   "outputs": [],
   "source": [
    "def to_weighted_avg2(df, feature_names):\n",
    "    print(1)\n",
    "    for feature_name in feature_names:\n",
    "        print('Current: ', feature_name)\n",
    "        w_avg2(df, feature_name)\n",
    "    return df"
   ]
  },
  {
   "cell_type": "code",
   "execution_count": 45,
   "metadata": {
    "id": "3Bh1mB_KNvtK"
   },
   "outputs": [
    {
     "name": "stdout",
     "output_type": "stream",
     "text": [
      "Current:  cast\n",
      "Current:  crew\n",
      "Current:  production_companies\n",
      "Current:  keywords\n"
     ]
    }
   ],
   "source": [
    "movies_shortened_avg1 = to_weighted_avg1(movies_shortened, ['cast', 'crew', 'production_companies', 'keywords'])"
   ]
  },
  {
   "cell_type": "code",
   "execution_count": 46,
   "metadata": {
    "id": "RsDoyOyRLTZq"
   },
   "outputs": [
    {
     "name": "stdout",
     "output_type": "stream",
     "text": [
      "1\n",
      "Current:  cast\n",
      "Current:  crew\n",
      "Current:  production_companies\n",
      "Current:  keywords\n"
     ]
    }
   ],
   "source": [
    "movies_shortened_avg2 = movies[['id', 'original_title', 'cast', 'crew', 'production_companies', 'keywords','vote_average']]\n",
    "movies_shortened_avg2 = movies_shortened_avg2.reset_index()\n",
    "movies_shortened_avg2 = to_weighted_avg2(movies_shortened_avg2, ['cast', 'crew', 'production_companies', 'keywords'])\n",
    "movies_shortened_avg2 = movies_shortened_avg2.drop(columns=['cast', 'crew', 'production_companies', 'keywords'])\n",
    "movies_shortened_avg2 = movies_shortened_avg2.rename(columns={'score_cast':'cast', 'score_crew':'crew', 'score_production_companies':'production_companies', 'score_keywords':'keywords'})"
   ]
  },
  {
   "cell_type": "code",
   "execution_count": 47,
   "metadata": {
    "id": "kjNAg0oVP0u4"
   },
   "outputs": [
    {
     "data": {
      "text/html": [
       "<div>\n",
       "<style scoped>\n",
       "    .dataframe tbody tr th:only-of-type {\n",
       "        vertical-align: middle;\n",
       "    }\n",
       "\n",
       "    .dataframe tbody tr th {\n",
       "        vertical-align: top;\n",
       "    }\n",
       "\n",
       "    .dataframe thead th {\n",
       "        text-align: right;\n",
       "    }\n",
       "</style>\n",
       "<table border=\"1\" class=\"dataframe\">\n",
       "  <thead>\n",
       "    <tr style=\"text-align: right;\">\n",
       "      <th></th>\n",
       "      <th>index</th>\n",
       "      <th>id</th>\n",
       "      <th>original_title</th>\n",
       "      <th>vote_average</th>\n",
       "      <th>cast</th>\n",
       "      <th>crew</th>\n",
       "      <th>production_companies</th>\n",
       "      <th>keywords</th>\n",
       "    </tr>\n",
       "  </thead>\n",
       "  <tbody>\n",
       "    <tr>\n",
       "      <th>0</th>\n",
       "      <td>0</td>\n",
       "      <td>19995</td>\n",
       "      <td>Avatar</td>\n",
       "      <td>7.2</td>\n",
       "      <td>32.985000</td>\n",
       "      <td>67.673714</td>\n",
       "      <td>25.542882</td>\n",
       "      <td>141.612001</td>\n",
       "    </tr>\n",
       "    <tr>\n",
       "      <th>1</th>\n",
       "      <td>1</td>\n",
       "      <td>285</td>\n",
       "      <td>Pirates of the Caribbean: At World's End</td>\n",
       "      <td>6.9</td>\n",
       "      <td>32.765556</td>\n",
       "      <td>64.367689</td>\n",
       "      <td>19.611998</td>\n",
       "      <td>107.545522</td>\n",
       "    </tr>\n",
       "    <tr>\n",
       "      <th>2</th>\n",
       "      <td>2</td>\n",
       "      <td>206647</td>\n",
       "      <td>Spectre</td>\n",
       "      <td>6.3</td>\n",
       "      <td>31.944444</td>\n",
       "      <td>65.737408</td>\n",
       "      <td>18.696703</td>\n",
       "      <td>44.541071</td>\n",
       "    </tr>\n",
       "    <tr>\n",
       "      <th>3</th>\n",
       "      <td>3</td>\n",
       "      <td>49026</td>\n",
       "      <td>The Dark Knight Rises</td>\n",
       "      <td>7.6</td>\n",
       "      <td>34.148324</td>\n",
       "      <td>72.687112</td>\n",
       "      <td>26.812496</td>\n",
       "      <td>141.515386</td>\n",
       "    </tr>\n",
       "    <tr>\n",
       "      <th>4</th>\n",
       "      <td>4</td>\n",
       "      <td>49529</td>\n",
       "      <td>John Carter</td>\n",
       "      <td>6.1</td>\n",
       "      <td>30.712500</td>\n",
       "      <td>65.207778</td>\n",
       "      <td>6.403175</td>\n",
       "      <td>99.172342</td>\n",
       "    </tr>\n",
       "    <tr>\n",
       "      <th>...</th>\n",
       "      <td>...</td>\n",
       "      <td>...</td>\n",
       "      <td>...</td>\n",
       "      <td>...</td>\n",
       "      <td>...</td>\n",
       "      <td>...</td>\n",
       "      <td>...</td>\n",
       "      <td>...</td>\n",
       "    </tr>\n",
       "    <tr>\n",
       "      <th>995</th>\n",
       "      <td>995</td>\n",
       "      <td>109491</td>\n",
       "      <td>Beautiful Creatures</td>\n",
       "      <td>5.6</td>\n",
       "      <td>28.900000</td>\n",
       "      <td>61.177381</td>\n",
       "      <td>24.371544</td>\n",
       "      <td>49.603125</td>\n",
       "    </tr>\n",
       "    <tr>\n",
       "      <th>996</th>\n",
       "      <td>996</td>\n",
       "      <td>9275</td>\n",
       "      <td>Death to Smoochy</td>\n",
       "      <td>5.9</td>\n",
       "      <td>31.425952</td>\n",
       "      <td>50.690556</td>\n",
       "      <td>23.851544</td>\n",
       "      <td>36.143849</td>\n",
       "    </tr>\n",
       "    <tr>\n",
       "      <th>997</th>\n",
       "      <td>997</td>\n",
       "      <td>329833</td>\n",
       "      <td>Zoolander 2</td>\n",
       "      <td>4.7</td>\n",
       "      <td>29.861951</td>\n",
       "      <td>58.753929</td>\n",
       "      <td>12.205556</td>\n",
       "      <td>29.836957</td>\n",
       "    </tr>\n",
       "    <tr>\n",
       "      <th>998</th>\n",
       "      <td>998</td>\n",
       "      <td>12634</td>\n",
       "      <td>The Big Bounce</td>\n",
       "      <td>5.0</td>\n",
       "      <td>28.172857</td>\n",
       "      <td>51.481667</td>\n",
       "      <td>15.250000</td>\n",
       "      <td>112.682829</td>\n",
       "    </tr>\n",
       "    <tr>\n",
       "      <th>999</th>\n",
       "      <td>999</td>\n",
       "      <td>10416</td>\n",
       "      <td>What Planet Are You From?</td>\n",
       "      <td>5.4</td>\n",
       "      <td>29.550000</td>\n",
       "      <td>53.138889</td>\n",
       "      <td>6.096703</td>\n",
       "      <td>33.794872</td>\n",
       "    </tr>\n",
       "  </tbody>\n",
       "</table>\n",
       "<p>1000 rows × 8 columns</p>\n",
       "</div>"
      ],
      "text/plain": [
       "     index      id                            original_title  vote_average  \\\n",
       "0        0   19995                                    Avatar           7.2   \n",
       "1        1     285  Pirates of the Caribbean: At World's End           6.9   \n",
       "2        2  206647                                   Spectre           6.3   \n",
       "3        3   49026                     The Dark Knight Rises           7.6   \n",
       "4        4   49529                               John Carter           6.1   \n",
       "..     ...     ...                                       ...           ...   \n",
       "995    995  109491                       Beautiful Creatures           5.6   \n",
       "996    996    9275                          Death to Smoochy           5.9   \n",
       "997    997  329833                               Zoolander 2           4.7   \n",
       "998    998   12634                            The Big Bounce           5.0   \n",
       "999    999   10416                 What Planet Are You From?           5.4   \n",
       "\n",
       "          cast       crew  production_companies    keywords  \n",
       "0    32.985000  67.673714             25.542882  141.612001  \n",
       "1    32.765556  64.367689             19.611998  107.545522  \n",
       "2    31.944444  65.737408             18.696703   44.541071  \n",
       "3    34.148324  72.687112             26.812496  141.515386  \n",
       "4    30.712500  65.207778              6.403175   99.172342  \n",
       "..         ...        ...                   ...         ...  \n",
       "995  28.900000  61.177381             24.371544   49.603125  \n",
       "996  31.425952  50.690556             23.851544   36.143849  \n",
       "997  29.861951  58.753929             12.205556   29.836957  \n",
       "998  28.172857  51.481667             15.250000  112.682829  \n",
       "999  29.550000  53.138889              6.096703   33.794872  \n",
       "\n",
       "[1000 rows x 8 columns]"
      ]
     },
     "execution_count": 47,
     "metadata": {},
     "output_type": "execute_result"
    }
   ],
   "source": [
    "movies_shortened_avg2"
   ]
  },
  {
   "cell_type": "code",
   "execution_count": 48,
   "metadata": {
    "id": "f3hyG2ykNzPs"
   },
   "outputs": [
    {
     "data": {
      "text/html": [
       "<div>\n",
       "<style scoped>\n",
       "    .dataframe tbody tr th:only-of-type {\n",
       "        vertical-align: middle;\n",
       "    }\n",
       "\n",
       "    .dataframe tbody tr th {\n",
       "        vertical-align: top;\n",
       "    }\n",
       "\n",
       "    .dataframe thead th {\n",
       "        text-align: right;\n",
       "    }\n",
       "</style>\n",
       "<table border=\"1\" class=\"dataframe\">\n",
       "  <thead>\n",
       "    <tr style=\"text-align: right;\">\n",
       "      <th></th>\n",
       "      <th>id</th>\n",
       "      <th>original_title</th>\n",
       "      <th>cast</th>\n",
       "      <th>crew</th>\n",
       "      <th>production_companies</th>\n",
       "      <th>keywords</th>\n",
       "      <th>vote_average</th>\n",
       "    </tr>\n",
       "  </thead>\n",
       "  <tbody>\n",
       "    <tr>\n",
       "      <th>474</th>\n",
       "      <td>330770</td>\n",
       "      <td>Évolution</td>\n",
       "      <td>1294.8</td>\n",
       "      <td>2143.444444</td>\n",
       "      <td>749.066667</td>\n",
       "      <td>2311.857143</td>\n",
       "      <td>6.4</td>\n",
       "    </tr>\n",
       "    <tr>\n",
       "      <th>681</th>\n",
       "      <td>9087</td>\n",
       "      <td>The American President</td>\n",
       "      <td>1228.6</td>\n",
       "      <td>2020.400000</td>\n",
       "      <td>425.500000</td>\n",
       "      <td>1914.000000</td>\n",
       "      <td>6.5</td>\n",
       "    </tr>\n",
       "    <tr>\n",
       "      <th>47</th>\n",
       "      <td>54138</td>\n",
       "      <td>Star Trek Into Darkness</td>\n",
       "      <td>1577.4</td>\n",
       "      <td>2782.714286</td>\n",
       "      <td>900.500000</td>\n",
       "      <td>2676.900000</td>\n",
       "      <td>7.4</td>\n",
       "    </tr>\n",
       "    <tr>\n",
       "      <th>726</th>\n",
       "      <td>9384</td>\n",
       "      <td>Starsky &amp; Hutch</td>\n",
       "      <td>507.6</td>\n",
       "      <td>1035.666667</td>\n",
       "      <td>504.000000</td>\n",
       "      <td>580.666667</td>\n",
       "      <td>5.6</td>\n",
       "    </tr>\n",
       "    <tr>\n",
       "      <th>243</th>\n",
       "      <td>1593</td>\n",
       "      <td>Night at the Museum</td>\n",
       "      <td>1009.0</td>\n",
       "      <td>1399.600000</td>\n",
       "      <td>585.000000</td>\n",
       "      <td>1829.928571</td>\n",
       "      <td>6.3</td>\n",
       "    </tr>\n",
       "    <tr>\n",
       "      <th>747</th>\n",
       "      <td>82682</td>\n",
       "      <td>Gangster Squad</td>\n",
       "      <td>1108.6</td>\n",
       "      <td>1866.700000</td>\n",
       "      <td>733.000000</td>\n",
       "      <td>2079.500000</td>\n",
       "      <td>6.2</td>\n",
       "    </tr>\n",
       "    <tr>\n",
       "      <th>43</th>\n",
       "      <td>534</td>\n",
       "      <td>Terminator Salvation</td>\n",
       "      <td>953.4</td>\n",
       "      <td>1527.600000</td>\n",
       "      <td>536.000000</td>\n",
       "      <td>1965.461538</td>\n",
       "      <td>5.9</td>\n",
       "    </tr>\n",
       "    <tr>\n",
       "      <th>556</th>\n",
       "      <td>197</td>\n",
       "      <td>Braveheart</td>\n",
       "      <td>1822.0</td>\n",
       "      <td>2617.625000</td>\n",
       "      <td>1119.333333</td>\n",
       "      <td>3826.500000</td>\n",
       "      <td>7.7</td>\n",
       "    </tr>\n",
       "    <tr>\n",
       "      <th>52</th>\n",
       "      <td>38356</td>\n",
       "      <td>Transformers: Dark of the Moon</td>\n",
       "      <td>1125.8</td>\n",
       "      <td>1958.333333</td>\n",
       "      <td>618.000000</td>\n",
       "      <td>1705.000000</td>\n",
       "      <td>6.1</td>\n",
       "    </tr>\n",
       "    <tr>\n",
       "      <th>369</th>\n",
       "      <td>1996</td>\n",
       "      <td>Lara Croft Tomb Raider: The Cradle of Life</td>\n",
       "      <td>716.2</td>\n",
       "      <td>1681.600000</td>\n",
       "      <td>396.285714</td>\n",
       "      <td>848.083333</td>\n",
       "      <td>5.5</td>\n",
       "    </tr>\n",
       "  </tbody>\n",
       "</table>\n",
       "</div>"
      ],
      "text/plain": [
       "         id                              original_title    cast         crew  \\\n",
       "474  330770                                   Évolution  1294.8  2143.444444   \n",
       "681    9087                      The American President  1228.6  2020.400000   \n",
       "47    54138                     Star Trek Into Darkness  1577.4  2782.714286   \n",
       "726    9384                             Starsky & Hutch   507.6  1035.666667   \n",
       "243    1593                         Night at the Museum  1009.0  1399.600000   \n",
       "747   82682                              Gangster Squad  1108.6  1866.700000   \n",
       "43      534                        Terminator Salvation   953.4  1527.600000   \n",
       "556     197                                  Braveheart  1822.0  2617.625000   \n",
       "52    38356              Transformers: Dark of the Moon  1125.8  1958.333333   \n",
       "369    1996  Lara Croft Tomb Raider: The Cradle of Life   716.2  1681.600000   \n",
       "\n",
       "     production_companies     keywords  vote_average  \n",
       "474            749.066667  2311.857143           6.4  \n",
       "681            425.500000  1914.000000           6.5  \n",
       "47             900.500000  2676.900000           7.4  \n",
       "726            504.000000   580.666667           5.6  \n",
       "243            585.000000  1829.928571           6.3  \n",
       "747            733.000000  2079.500000           6.2  \n",
       "43             536.000000  1965.461538           5.9  \n",
       "556           1119.333333  3826.500000           7.7  \n",
       "52             618.000000  1705.000000           6.1  \n",
       "369            396.285714   848.083333           5.5  "
      ]
     },
     "execution_count": 48,
     "metadata": {},
     "output_type": "execute_result"
    }
   ],
   "source": [
    "movies_shortened.sample(10)\n"
   ]
  },
  {
   "cell_type": "code",
   "execution_count": 49,
   "metadata": {
    "id": "6zNnGy1rN0wj"
   },
   "outputs": [],
   "source": [
    "feat_df = movies_shortened_avg1[['cast', 'crew', 'production_companies', 'keywords']] #extract only features from df, and scale\n",
    "# feat_df = movies_shortened_avg2[['cast', 'crew', 'production_companies', 'keywords']] "
   ]
  },
  {
   "cell_type": "code",
   "execution_count": 50,
   "metadata": {
    "id": "GkZ0RKYG202V"
   },
   "outputs": [
    {
     "data": {
      "text/html": [
       "<div>\n",
       "<style scoped>\n",
       "    .dataframe tbody tr th:only-of-type {\n",
       "        vertical-align: middle;\n",
       "    }\n",
       "\n",
       "    .dataframe tbody tr th {\n",
       "        vertical-align: top;\n",
       "    }\n",
       "\n",
       "    .dataframe thead th {\n",
       "        text-align: right;\n",
       "    }\n",
       "</style>\n",
       "<table border=\"1\" class=\"dataframe\">\n",
       "  <thead>\n",
       "    <tr style=\"text-align: right;\">\n",
       "      <th></th>\n",
       "      <th>cast</th>\n",
       "      <th>crew</th>\n",
       "      <th>production_companies</th>\n",
       "      <th>keywords</th>\n",
       "    </tr>\n",
       "  </thead>\n",
       "  <tbody>\n",
       "    <tr>\n",
       "      <th>0</th>\n",
       "      <td>1424.6</td>\n",
       "      <td>2386.000000</td>\n",
       "      <td>698.000000</td>\n",
       "      <td>2840.523810</td>\n",
       "    </tr>\n",
       "    <tr>\n",
       "      <th>1</th>\n",
       "      <td>1408.6</td>\n",
       "      <td>2174.600000</td>\n",
       "      <td>824.666667</td>\n",
       "      <td>2874.875000</td>\n",
       "    </tr>\n",
       "    <tr>\n",
       "      <th>2</th>\n",
       "      <td>1254.6</td>\n",
       "      <td>2328.000000</td>\n",
       "      <td>636.333333</td>\n",
       "      <td>2139.285714</td>\n",
       "    </tr>\n",
       "    <tr>\n",
       "      <th>3</th>\n",
       "      <td>1670.2</td>\n",
       "      <td>2790.833333</td>\n",
       "      <td>901.000000</td>\n",
       "      <td>2790.000000</td>\n",
       "    </tr>\n",
       "    <tr>\n",
       "      <th>4</th>\n",
       "      <td>971.6</td>\n",
       "      <td>1996.333333</td>\n",
       "      <td>783.000000</td>\n",
       "      <td>1752.062500</td>\n",
       "    </tr>\n",
       "    <tr>\n",
       "      <th>...</th>\n",
       "      <td>...</td>\n",
       "      <td>...</td>\n",
       "      <td>...</td>\n",
       "      <td>...</td>\n",
       "    </tr>\n",
       "    <tr>\n",
       "      <th>995</th>\n",
       "      <td>616.0</td>\n",
       "      <td>1593.777778</td>\n",
       "      <td>541.750000</td>\n",
       "      <td>1740.750000</td>\n",
       "    </tr>\n",
       "    <tr>\n",
       "      <th>996</th>\n",
       "      <td>1153.2</td>\n",
       "      <td>847.555556</td>\n",
       "      <td>464.250000</td>\n",
       "      <td>1391.000000</td>\n",
       "    </tr>\n",
       "    <tr>\n",
       "      <th>997</th>\n",
       "      <td>785.0</td>\n",
       "      <td>1170.500000</td>\n",
       "      <td>560.000000</td>\n",
       "      <td>413.166667</td>\n",
       "    </tr>\n",
       "    <tr>\n",
       "      <th>998</th>\n",
       "      <td>565.6</td>\n",
       "      <td>258.500000</td>\n",
       "      <td>84.666667</td>\n",
       "      <td>970.500000</td>\n",
       "    </tr>\n",
       "    <tr>\n",
       "      <th>999</th>\n",
       "      <td>756.4</td>\n",
       "      <td>1355.285714</td>\n",
       "      <td>533.000000</td>\n",
       "      <td>698.000000</td>\n",
       "    </tr>\n",
       "  </tbody>\n",
       "</table>\n",
       "<p>1000 rows × 4 columns</p>\n",
       "</div>"
      ],
      "text/plain": [
       "       cast         crew  production_companies     keywords\n",
       "0    1424.6  2386.000000            698.000000  2840.523810\n",
       "1    1408.6  2174.600000            824.666667  2874.875000\n",
       "2    1254.6  2328.000000            636.333333  2139.285714\n",
       "3    1670.2  2790.833333            901.000000  2790.000000\n",
       "4     971.6  1996.333333            783.000000  1752.062500\n",
       "..      ...          ...                   ...          ...\n",
       "995   616.0  1593.777778            541.750000  1740.750000\n",
       "996  1153.2   847.555556            464.250000  1391.000000\n",
       "997   785.0  1170.500000            560.000000   413.166667\n",
       "998   565.6   258.500000             84.666667   970.500000\n",
       "999   756.4  1355.285714            533.000000   698.000000\n",
       "\n",
       "[1000 rows x 4 columns]"
      ]
     },
     "execution_count": 50,
     "metadata": {},
     "output_type": "execute_result"
    }
   ],
   "source": [
    "feat_df"
   ]
  },
  {
   "cell_type": "code",
   "execution_count": 51,
   "metadata": {
    "id": "8gRzx7oPN6Nm"
   },
   "outputs": [],
   "source": [
    "from sklearn.preprocessing import MinMaxScaler\n",
    "scaler = MinMaxScaler()\n",
    "feat_scaled = pd.DataFrame(scaler.fit_transform(feat_df.astype(float)))\n",
    "feat_scaled.index = feat_df.index\n",
    "feat_scaled.columns = feat_df.columns\n",
    "\n",
    "#Seperate dataframe for target\n",
    "target_df = pd.DataFrame()\n",
    "target_df['ratings'] =  movies_shortened_avg1['vote_average']"
   ]
  },
  {
   "cell_type": "code",
   "execution_count": 52,
   "metadata": {
    "id": "5di5yOFbN8J2"
   },
   "outputs": [
    {
     "data": {
      "text/html": [
       "<div>\n",
       "<style scoped>\n",
       "    .dataframe tbody tr th:only-of-type {\n",
       "        vertical-align: middle;\n",
       "    }\n",
       "\n",
       "    .dataframe tbody tr th {\n",
       "        vertical-align: top;\n",
       "    }\n",
       "\n",
       "    .dataframe thead th {\n",
       "        text-align: right;\n",
       "    }\n",
       "</style>\n",
       "<table border=\"1\" class=\"dataframe\">\n",
       "  <thead>\n",
       "    <tr style=\"text-align: right;\">\n",
       "      <th></th>\n",
       "      <th>cast</th>\n",
       "      <th>crew</th>\n",
       "      <th>production_companies</th>\n",
       "      <th>keywords</th>\n",
       "    </tr>\n",
       "  </thead>\n",
       "  <tbody>\n",
       "    <tr>\n",
       "      <th>111</th>\n",
       "      <td>0.593177</td>\n",
       "      <td>0.609875</td>\n",
       "      <td>0.595688</td>\n",
       "      <td>0.477255</td>\n",
       "    </tr>\n",
       "    <tr>\n",
       "      <th>781</th>\n",
       "      <td>0.415121</td>\n",
       "      <td>0.533776</td>\n",
       "      <td>0.426866</td>\n",
       "      <td>0.438991</td>\n",
       "    </tr>\n",
       "    <tr>\n",
       "      <th>540</th>\n",
       "      <td>0.284090</td>\n",
       "      <td>0.142962</td>\n",
       "      <td>0.322388</td>\n",
       "      <td>0.252534</td>\n",
       "    </tr>\n",
       "    <tr>\n",
       "      <th>940</th>\n",
       "      <td>0.525151</td>\n",
       "      <td>0.621000</td>\n",
       "      <td>0.652026</td>\n",
       "      <td>0.480874</td>\n",
       "    </tr>\n",
       "    <tr>\n",
       "      <th>101</th>\n",
       "      <td>0.770618</td>\n",
       "      <td>0.798173</td>\n",
       "      <td>0.568017</td>\n",
       "      <td>0.699073</td>\n",
       "    </tr>\n",
       "    <tr>\n",
       "      <th>333</th>\n",
       "      <td>0.468600</td>\n",
       "      <td>0.672837</td>\n",
       "      <td>0.474414</td>\n",
       "      <td>0.373180</td>\n",
       "    </tr>\n",
       "    <tr>\n",
       "      <th>676</th>\n",
       "      <td>0.600963</td>\n",
       "      <td>0.519198</td>\n",
       "      <td>0.591258</td>\n",
       "      <td>0.570574</td>\n",
       "    </tr>\n",
       "    <tr>\n",
       "      <th>237</th>\n",
       "      <td>0.631083</td>\n",
       "      <td>0.450909</td>\n",
       "      <td>0.509737</td>\n",
       "      <td>0.425266</td>\n",
       "    </tr>\n",
       "    <tr>\n",
       "      <th>806</th>\n",
       "      <td>0.441656</td>\n",
       "      <td>0.459085</td>\n",
       "      <td>0.683582</td>\n",
       "      <td>0.125682</td>\n",
       "    </tr>\n",
       "    <tr>\n",
       "      <th>417</th>\n",
       "      <td>0.809343</td>\n",
       "      <td>0.740283</td>\n",
       "      <td>0.737171</td>\n",
       "      <td>0.639672</td>\n",
       "    </tr>\n",
       "  </tbody>\n",
       "</table>\n",
       "</div>"
      ],
      "text/plain": [
       "         cast      crew  production_companies  keywords\n",
       "111  0.593177  0.609875              0.595688  0.477255\n",
       "781  0.415121  0.533776              0.426866  0.438991\n",
       "540  0.284090  0.142962              0.322388  0.252534\n",
       "940  0.525151  0.621000              0.652026  0.480874\n",
       "101  0.770618  0.798173              0.568017  0.699073\n",
       "333  0.468600  0.672837              0.474414  0.373180\n",
       "676  0.600963  0.519198              0.591258  0.570574\n",
       "237  0.631083  0.450909              0.509737  0.425266\n",
       "806  0.441656  0.459085              0.683582  0.125682\n",
       "417  0.809343  0.740283              0.737171  0.639672"
      ]
     },
     "execution_count": 52,
     "metadata": {},
     "output_type": "execute_result"
    }
   ],
   "source": [
    "feat_scaled.sample(10)\n"
   ]
  },
  {
   "cell_type": "code",
   "execution_count": 53,
   "metadata": {
    "id": "hrqg7u_ZN-kM"
   },
   "outputs": [
    {
     "data": {
      "text/plain": [
       "Text(0.5, 0.98, \"Corrlation between a movie's features and its rating\")"
      ]
     },
     "execution_count": 53,
     "metadata": {},
     "output_type": "execute_result"
    },
    {
     "data": {
      "image/png": "[encoded data removed]",
      "text/plain": [
       "<Figure size 1728x1440 with 4 Axes>"
      ]
     },
     "metadata": {
      "needs_background": "light"
     },
     "output_type": "display_data"
    }
   ],
   "source": [
    "fig, ax = plt.subplots(2,2, figsize=(24,20))\n",
    "\n",
    "ax[0,0].scatter(target_df['ratings'], feat_scaled['cast'], facecolor='blue')\n",
    "ax[0,0].set_xlabel('rating')\n",
    "ax[0,0].set_ylabel('cast normalized')\n",
    "ax[0,0].set_title('cast')\n",
    "\n",
    "ax[1,0].scatter(target_df['ratings'], feat_scaled['crew'], facecolor='green')\n",
    "ax[1,0].set_xlabel('rating')\n",
    "ax[1,0].set_ylabel('crew normalized')\n",
    "ax[1,0].set_title('crew')\n",
    "\n",
    "ax[0,1].scatter(target_df['ratings'], feat_scaled['production_companies'], facecolor='red')\n",
    "ax[0,1].set_xlabel('rating')\n",
    "ax[0,1].set_ylabel('production companies normalized')\n",
    "ax[0,1].set_title('Production Companies')\n",
    "\n",
    "ax[1,1].scatter(target_df['ratings'], feat_scaled['keywords'], facecolor='orange')\n",
    "ax[1,1].set_xlabel('rating')\n",
    "ax[1,1].set_ylabel('keywords normalized')\n",
    "ax[1,1].set_title('keywords')\n",
    "\n",
    "fig.suptitle(\"Corrlation between a movie's features and its rating\")"
   ]
  },
  {
   "cell_type": "code",
   "execution_count": 54,
   "metadata": {
    "id": "rA7Q41SOOCLA"
   },
   "outputs": [],
   "source": [
    "from sklearn.model_selection import train_test_split\n",
    "def train_test_val_split(df_feat, df_target, train_frac):\n",
    "    train_features, test_features, train_target, test_target = train_test_split(df_feat, df_target, test_size = train_frac) #splitting training from rest of the dataset\n",
    "    return (train_features, train_target), (test_features, test_target)"
   ]
  },
  {
   "cell_type": "code",
   "execution_count": 55,
   "metadata": {
    "id": "9PGxmVJFOGUe"
   },
   "outputs": [],
   "source": [
    "(features_train, target_train), (features_test, target_test) = train_test_val_split(feat_scaled, target_df,0.7)"
   ]
  },
  {
   "cell_type": "code",
   "execution_count": 56,
   "metadata": {
    "id": "Sho6isIBOIII"
   },
   "outputs": [
    {
     "data": {
      "text/html": [
       "<div>\n",
       "<style scoped>\n",
       "    .dataframe tbody tr th:only-of-type {\n",
       "        vertical-align: middle;\n",
       "    }\n",
       "\n",
       "    .dataframe tbody tr th {\n",
       "        vertical-align: top;\n",
       "    }\n",
       "\n",
       "    .dataframe thead th {\n",
       "        text-align: right;\n",
       "    }\n",
       "</style>\n",
       "<table border=\"1\" class=\"dataframe\">\n",
       "  <thead>\n",
       "    <tr style=\"text-align: right;\">\n",
       "      <th></th>\n",
       "      <th>ratings</th>\n",
       "    </tr>\n",
       "  </thead>\n",
       "  <tbody>\n",
       "    <tr>\n",
       "      <th>938</th>\n",
       "      <td>6.3</td>\n",
       "    </tr>\n",
       "    <tr>\n",
       "      <th>952</th>\n",
       "      <td>5.5</td>\n",
       "    </tr>\n",
       "    <tr>\n",
       "      <th>367</th>\n",
       "      <td>6.2</td>\n",
       "    </tr>\n",
       "    <tr>\n",
       "      <th>602</th>\n",
       "      <td>4.3</td>\n",
       "    </tr>\n",
       "    <tr>\n",
       "      <th>45</th>\n",
       "      <td>6.7</td>\n",
       "    </tr>\n",
       "  </tbody>\n",
       "</table>\n",
       "</div>"
      ],
      "text/plain": [
       "     ratings\n",
       "938      6.3\n",
       "952      5.5\n",
       "367      6.2\n",
       "602      4.3\n",
       "45       6.7"
      ]
     },
     "execution_count": 56,
     "metadata": {},
     "output_type": "execute_result"
    }
   ],
   "source": [
    "target_train.head()"
   ]
  },
  {
   "cell_type": "markdown",
   "metadata": {
    "id": "PGkuNA-m3efl"
   },
   "source": [
    "# **Model Selection and Validation**"
   ]
  },
  {
   "cell_type": "code",
   "execution_count": 57,
   "metadata": {
    "id": "I3SieZGS09Bp"
   },
   "outputs": [
    {
     "data": {
      "text/html": [
       "<div>\n",
       "<style scoped>\n",
       "    .dataframe tbody tr th:only-of-type {\n",
       "        vertical-align: middle;\n",
       "    }\n",
       "\n",
       "    .dataframe tbody tr th {\n",
       "        vertical-align: top;\n",
       "    }\n",
       "\n",
       "    .dataframe thead th {\n",
       "        text-align: right;\n",
       "    }\n",
       "</style>\n",
       "<table border=\"1\" class=\"dataframe\">\n",
       "  <thead>\n",
       "    <tr style=\"text-align: right;\">\n",
       "      <th></th>\n",
       "      <th>ratings</th>\n",
       "    </tr>\n",
       "  </thead>\n",
       "  <tbody>\n",
       "    <tr>\n",
       "      <th>491</th>\n",
       "      <td>5.2</td>\n",
       "    </tr>\n",
       "    <tr>\n",
       "      <th>603</th>\n",
       "      <td>5.5</td>\n",
       "    </tr>\n",
       "    <tr>\n",
       "      <th>583</th>\n",
       "      <td>7.6</td>\n",
       "    </tr>\n",
       "    <tr>\n",
       "      <th>569</th>\n",
       "      <td>5.8</td>\n",
       "    </tr>\n",
       "    <tr>\n",
       "      <th>819</th>\n",
       "      <td>5.9</td>\n",
       "    </tr>\n",
       "  </tbody>\n",
       "</table>\n",
       "</div>"
      ],
      "text/plain": [
       "     ratings\n",
       "491      5.2\n",
       "603      5.5\n",
       "583      7.6\n",
       "569      5.8\n",
       "819      5.9"
      ]
     },
     "execution_count": 57,
     "metadata": {},
     "output_type": "execute_result"
    }
   ],
   "source": [
    "# split data for training and testing: 0.7:0.3\n",
    "\n",
    "from sklearn.model_selection import train_test_split\n",
    "def train_test_val_split(df_feat, df_target, train_frac):\n",
    "    train_features, test_features, train_target, test_target = train_test_split(df_feat, df_target, test_size = train_frac) #splitting training from rest of the dataset\n",
    "    return (train_features, train_target), (test_features, test_target)\n",
    "\n",
    "(features_train, target_train), (features_test, target_test) = train_test_val_split(feat_scaled, target_df,0.7)\n",
    "\n",
    "target_train.head()"
   ]
  },
  {
   "cell_type": "code",
   "execution_count": 58,
   "metadata": {
    "id": "FAlGCb2cc86T"
   },
   "outputs": [],
   "source": [
    "from sklearn.model_selection import learning_curve \n",
    "\n",
    "# Hàm thực hiện training model, crossvalidate và vẽ lên đồ thị sử dụng mat libplot \n",
    "def plot_learning_curve(estimator, title, label_curve, X, y, ylim=None, cv=None, score='r2',\n",
    "                        n_jobs=-1, train_sizes=np.linspace(.1, 1.0, 5), new_plot=False,\n",
    "                        idx_color=0):\n",
    "    \n",
    "    # Khởi tạo bức ảnh mới với thư viện plot lib\n",
    "    if new_plot:\n",
    "        plt.figure(figsize=(16, 10))\n",
    "        plt.title(title)\n",
    "        plt.xlabel(\"Training examples\")\n",
    "        plt.ylabel(\"r2-score\")\n",
    "        plt.grid()\n",
    "    \n",
    "    # chú thích nếu có \n",
    "    if ylim is not None:\n",
    "        plt.ylim(*ylim)\n",
    "        \n",
    "    # thực hiện training model, ghi nhận các giá trị trong quá trình training \n",
    "    # cv = số fold cross validate, số phần bộ dữ liệu được chia để thực hiện training testing.\n",
    "    # train_sizes = mảng tỉ lệ, các tỉ lệ được hệ thống chọn làm điểm dừng để thực hiện 1 testing \n",
    "    #  train_sizes = [0.3, 0.5] => hệ thống lấy 30 % dữ liệu để train và thực hiện test, tương tự 50 % ..\n",
    "    # scoring = hàm mục tiêu để đánh giá chất lượng mô hình và vẽ lên đồ thị \n",
    "    train_sizes, train_scores, test_scores = learning_curve(\n",
    "        estimator, X, y, cv=cv, n_jobs=n_jobs, train_sizes=train_sizes, scoring=score)\n",
    "    \n",
    "    # Lấy trung bình cộng các giá trị output của các fold\n",
    "    train_scores_mean = np.mean(train_scores, axis=1)\n",
    "    train_scores_std = np.std(train_scores, axis=1)\n",
    "    test_scores_mean = np.mean(test_scores, axis=1)\n",
    "    test_scores_std = np.std(test_scores, axis=1)\n",
    "    \n",
    "    # random 1 màu để vẽ \n",
    "    color = 'C' + str(idx_color)\n",
    "    \n",
    "    # thực hiện vẽ các giá trị số lên đồ thị với màu vừa được random \n",
    "    #plt.fill_between(train_sizes, test_scores_mean - test_scores_std,\n",
    "    #                 test_scores_mean + test_scores_std, alpha=0.1, color=color)\n",
    "    plt.plot(train_sizes, test_scores_mean, 'o-', color=color,\n",
    "             label=label_curve)\n",
    "\n",
    "    plt.legend(loc=\"best\")\n",
    "    return plt"
   ]
  },
  {
   "cell_type": "markdown",
   "metadata": {
    "id": "vw_RnLYuGRJd"
   },
   "source": [
    "# **Ridge Regression**"
   ]
  },
  {
   "cell_type": "code",
   "execution_count": 59,
   "metadata": {
    "id": "bB3bDqRUmRdE"
   },
   "outputs": [
    {
     "data": {
      "image/png": "[encoded data removed]",
      "text/plain": [
       "<Figure size 1152x720 with 1 Axes>"
      ]
     },
     "metadata": {
      "needs_background": "light"
     },
     "output_type": "display_data"
    }
   ],
   "source": [
    "from sklearn.linear_model import Ridge\n",
    "title = 'Ridge Regression'\n",
    "# ridge = Ridge(alpha=best_alpha)\n",
    "for i, alpha in enumerate(np.linspace(0, 1, 6)):\n",
    "  plt = plot_learning_curve(Ridge(alpha=alpha), title, label_curve='alpha='+str(alpha), X=feat_scaled,y=target_df,\n",
    "                              train_sizes=np.linspace(.1, 1.0, 10),\n",
    "                              cv=5, score='r2', n_jobs=1, idx_color=i, new_plot=(i==0))\n",
    "plt.show()"
   ]
  },
  {
   "cell_type": "code",
   "execution_count": 60,
   "metadata": {
    "id": "zJCfFkIBFfAi"
   },
   "outputs": [
    {
     "name": "stdout",
     "output_type": "stream",
     "text": [
      "0\n",
      "Best alpha with 5-fold cross-validation: 0.164\n"
     ]
    }
   ],
   "source": [
    "from sklearn.linear_model import RidgeCV\n",
    "\n",
    "cv = 5\n",
    "ridge_regr = RidgeCV(alphas=range(10), cv=cv)\n",
    "ridge_regr.fit(features_train.values, target_train)\n",
    "print(ridge_regr.alpha_)\n",
    "best_alpha = ridge_regr.alpha_\n",
    "\n",
    "# range scan\n",
    "alphas = [k * 1./1000 for k in range(\n",
    "                max(0, best_alpha - 1) *1000, (best_alpha + 1)*1000, 1)]\n",
    "ridge_regr = RidgeCV(alphas=alphas, cv=cv)\n",
    "ridge_regr.fit(features_train.values, target_train)\n",
    "best_alpha = ridge_regr.alpha_\n",
    "print('Best alpha with %d-fold cross-validation: %.3f'%(cv, best_alpha))"
   ]
  },
  {
   "cell_type": "code",
   "execution_count": 61,
   "metadata": {
    "id": "wava3WQCFewk"
   },
   "outputs": [],
   "source": [
    "target_pred = ridge_regr.predict(features_test.values)"
   ]
  },
  {
   "cell_type": "code",
   "execution_count": 62,
   "metadata": {
    "id": "fbV4PZJdFenC"
   },
   "outputs": [
    {
     "data": {
      "text/plain": [
       "Text(0.5, 1.0, 'Movie ratings vs Predicted ratings')"
      ]
     },
     "execution_count": 62,
     "metadata": {},
     "output_type": "execute_result"
    },
    {
     "data": {
      "image/png": "[encoded data removed]",
      "text/plain": [
       "<Figure size 720x720 with 1 Axes>"
      ]
     },
     "metadata": {
      "needs_background": "light"
     },
     "output_type": "display_data"
    }
   ],
   "source": [
    "plt.figure(figsize=(10, 10))\n",
    "plt.axis([0,10,0,10])\n",
    "plt.scatter(target_test, target_pred)\n",
    "\n",
    "index_arr = [n for n in range(11)]\n",
    "plt.plot(index_arr,'r--')             \n",
    "plt.xlabel(\"Movie Ratings\")\n",
    "plt.ylabel(\"Predicted Ratings\")\n",
    "plt.title(\"Movie ratings vs Predicted ratings\")"
   ]
  },
  {
   "cell_type": "code",
   "execution_count": 63,
   "metadata": {
    "id": "p9uwpMiUF0Uu"
   },
   "outputs": [
    {
     "name": "stdout",
     "output_type": "stream",
     "text": [
      "R^2 Score for predictions: 0.8607026224462377\n"
     ]
    }
   ],
   "source": [
    "from sklearn.metrics import r2_score\n",
    "\n",
    "score = r2_score(target_test, target_pred)\n",
    "\n",
    "print(\"R^2 Score for predictions:\", score)"
   ]
  },
  {
   "cell_type": "code",
   "execution_count": 64,
   "metadata": {
    "id": "DbKwWBqgogjQ"
   },
   "outputs": [
    {
     "name": "stdout",
     "output_type": "stream",
     "text": [
      "0.76\n"
     ]
    }
   ],
   "source": [
    "from sklearn.metrics import accuracy_score\n",
    "\n",
    "y_true = np.round(target_test.to_numpy())  #round to nearest even if value = x.5\n",
    "y_pred = np.round(target_pred)\n",
    "\n",
    "print(accuracy_score(y_true, y_pred))"
   ]
  },
  {
   "cell_type": "code",
   "execution_count": 65,
   "metadata": {
    "id": "rs7FN4KoeOci"
   },
   "outputs": [
    {
     "data": {
      "image/png": "[encoded data removed]",
      "text/plain": [
       "<Figure size 1152x720 with 1 Axes>"
      ]
     },
     "metadata": {
      "needs_background": "light"
     },
     "output_type": "display_data"
    }
   ],
   "source": [
    "from sklearn.linear_model import Ridge\n",
    "title = 'Ridge Regression'\n",
    "ridge = Ridge(alpha=best_alpha)\n",
    "plt = plot_learning_curve(ridge, title, label_curve='Rigde Regr', X=feat_scaled,y=target_df,\n",
    "                              train_sizes=np.linspace(.1, 1.0, 10),\n",
    "                              cv=5, score='r2', n_jobs=1, idx_color=0, new_plot=True)\n",
    "plt.show()"
   ]
  },
  {
   "cell_type": "code",
   "execution_count": 66,
   "metadata": {
    "id": "HnBXxs8i4PVG"
   },
   "outputs": [
    {
     "data": {
      "text/plain": [
       "BayesianRidge()"
      ]
     },
     "execution_count": 66,
     "metadata": {},
     "output_type": "execute_result"
    }
   ],
   "source": [
    "from sklearn.linear_model import BayesianRidge\n",
    "\n",
    "reg = BayesianRidge()\n",
    "reg.fit(features_train.values, target_train)"
   ]
  },
  {
   "cell_type": "code",
   "execution_count": 67,
   "metadata": {
    "id": "kQYpiXQx4U3K"
   },
   "outputs": [],
   "source": [
    "target_pred = reg.predict(features_test.values)"
   ]
  },
  {
   "cell_type": "code",
   "execution_count": 68,
   "metadata": {
    "id": "-djc-Cep4Vmx"
   },
   "outputs": [
    {
     "data": {
      "text/plain": [
       "Text(0.5, 1.0, 'Movie ratings vs Predicted ratings')"
      ]
     },
     "execution_count": 68,
     "metadata": {},
     "output_type": "execute_result"
    },
    {
     "data": {
      "image/png": "[encoded data removed]",
      "text/plain": [
       "<Figure size 720x720 with 1 Axes>"
      ]
     },
     "metadata": {
      "needs_background": "light"
     },
     "output_type": "display_data"
    }
   ],
   "source": [
    "plt.figure(figsize=(10, 10))\n",
    "plt.axis([0,10,0,10])\n",
    "plt.scatter(target_test, target_pred)\n",
    "\n",
    "index_arr = [n for n in range(11)]\n",
    "plt.plot(index_arr,'r--')             \n",
    "plt.xlabel(\"Movie Ratings\")\n",
    "plt.ylabel(\"Predicted Ratings\")\n",
    "plt.title(\"Movie ratings vs Predicted ratings\")"
   ]
  },
  {
   "cell_type": "code",
   "execution_count": 69,
   "metadata": {
    "id": "J0hK08w05DHG"
   },
   "outputs": [
    {
     "name": "stdout",
     "output_type": "stream",
     "text": [
      "R^2 Score for predictions: 0.8602354040831159\n"
     ]
    }
   ],
   "source": [
    "from sklearn.metrics import r2_score\n",
    "\n",
    "score = r2_score(target_test, target_pred)\n",
    "\n",
    "print(\"R^2 Score for predictions:\", score)"
   ]
  },
  {
   "cell_type": "code",
   "execution_count": 70,
   "metadata": {
    "id": "2buWcwfLvI0Q"
   },
   "outputs": [
    {
     "name": "stdout",
     "output_type": "stream",
     "text": [
      "0.7585714285714286\n"
     ]
    }
   ],
   "source": [
    "from sklearn.metrics import accuracy_score\n",
    "\n",
    "y_true = np.round(target_test.to_numpy())  #round to nearest even if value = x.5\n",
    "y_pred = np.round(target_pred)\n",
    "\n",
    "print(accuracy_score(y_true, y_pred))"
   ]
  },
  {
   "cell_type": "code",
   "execution_count": 71,
   "metadata": {
    "id": "K1NYfk2BhFft"
   },
   "outputs": [
    {
     "data": {
      "image/png": "[encoded data removed]",
      "text/plain": [
       "<Figure size 1152x720 with 1 Axes>"
      ]
     },
     "metadata": {
      "needs_background": "light"
     },
     "output_type": "display_data"
    }
   ],
   "source": [
    "from sklearn.linear_model import Ridge\n",
    "title = 'Ridge Regression'\n",
    "ridge = Ridge(alpha=best_alpha)\n",
    "plt = plot_learning_curve(ridge, title, label_curve='Rigde Regr', X=feat_scaled,y=target_df,\n",
    "                              train_sizes=np.linspace(.1, 1.0, 10),\n",
    "                              cv=5, score='r2', n_jobs=1, idx_color=0, new_plot=True)\n",
    "#plt.show()\n",
    "\n",
    "title = 'Bayesian Regression'\n",
    "\n",
    "plt = plot_learning_curve(reg, title, label_curve='Bayesian Regression', X=feat_scaled,y=target_df,\n",
    "                              train_sizes=np.linspace(.1, 1.0, 10),\n",
    "                              cv=5, score='r2', n_jobs=1, idx_color=1, new_plot=False)\n",
    "plt.show()"
   ]
  },
  {
   "cell_type": "markdown",
   "metadata": {
    "id": "Z7OYLFVDe_Dy"
   },
   "source": [
    "# **k-NN**"
   ]
  },
  {
   "cell_type": "code",
   "execution_count": 72,
   "metadata": {
    "id": "ULOx7z0TsIlQ"
   },
   "outputs": [],
   "source": [
    "from sklearn.neighbors import KNeighborsClassifier\n",
    "from sklearn.model_selection import learning_curve"
   ]
  },
  {
   "cell_type": "code",
   "execution_count": 73,
   "metadata": {
    "id": "q2SqGxWMvjYX"
   },
   "outputs": [],
   "source": [
    "def get_cmap(n):\n",
    "    return 'C' + str(n)\n",
    "\n",
    "def plot_learning_curve(estimator, title, label_curve, X, y, ylim=None, cv=None,\n",
    "                        n_jobs=1, train_sizes=np.linspace(.1, 1.0, 5), new_plot=False,\n",
    "                        idx_color=0):\n",
    "    \n",
    "    if new_plot:\n",
    "        # plt.figure()\n",
    "        plt.title(title)\n",
    "        plt.xlabel(\"Training examples\")\n",
    "        plt.ylabel(\"Accuracy\")\n",
    "        plt.grid()\n",
    "    \n",
    "    if ylim is not None:\n",
    "        plt.ylim(*ylim)\n",
    "        \n",
    "    train_sizes, train_scores, test_scores = learning_curve(\n",
    "        estimator, X, y, cv=cv, n_jobs=n_jobs, train_sizes=train_sizes, scoring=\"accuracy\")\n",
    "    \n",
    "    train_scores_mean = np.mean(train_scores, axis=1)\n",
    "    train_scores_std = np.std(train_scores, axis=1)\n",
    "    test_scores_mean = np.mean(test_scores, axis=1)\n",
    "    test_scores_std = np.std(test_scores, axis=1)\n",
    "    \n",
    "    color = get_cmap(idx_color)\n",
    "    \n",
    "    plt.plot(train_sizes, test_scores_mean, 'o-', color=color,\n",
    "             label=label_curve)\n",
    "\n",
    "    plt.legend(loc=\"best\")\n",
    "    return plt"
   ]
  },
  {
   "cell_type": "code",
   "execution_count": 74,
   "metadata": {
    "id": "wYaFLmkpsgJP"
   },
   "outputs": [
    {
     "data": {
      "image/png": "[encoded data removed]",
      "text/plain": [
       "<Figure size 432x288 with 1 Axes>"
      ]
     },
     "metadata": {
      "needs_background": "light"
     },
     "output_type": "display_data"
    }
   ],
   "source": [
    "title = \"KNN - change number of neighbor\"\n",
    "\n",
    "for i, n_neighbor in enumerate([11, 13, 15, 17, 19]):\n",
    "    text_clf = KNeighborsClassifier(n_neighbors=n_neighbor, weights='distance')\n",
    "    plt = plot_learning_curve(text_clf, title, \"n_neighbors = {}\".format(n_neighbor),\n",
    "                              feat_scaled, target_df.round(0),\n",
    "                              ylim=(0.66, 0.73),\n",
    "                              train_sizes=np.linspace(.1, 1.0, 10),\n",
    "                              cv=10,n_jobs = -1, idx_color=i, new_plot=i == 0)\n",
    "plt.show()"
   ]
  },
  {
   "cell_type": "code",
   "execution_count": 75,
   "metadata": {
    "id": "OPgisskclXnN"
   },
   "outputs": [
    {
     "data": {
      "text/plain": [
       "KNeighborsClassifier(n_neighbors=19, weights='distance')"
      ]
     },
     "execution_count": 75,
     "metadata": {},
     "output_type": "execute_result"
    }
   ],
   "source": [
    "knn = KNeighborsClassifier(n_neighbors=19, weights='distance')\n",
    "knn.fit(features_train, target_train.round(0))\n"
   ]
  },
  {
   "cell_type": "code",
   "execution_count": 76,
   "metadata": {
    "id": "Tyr0USVKnOk-"
   },
   "outputs": [
    {
     "data": {
      "text/plain": [
       "0.7671428571428571"
      ]
     },
     "execution_count": 76,
     "metadata": {},
     "output_type": "execute_result"
    }
   ],
   "source": [
    "knn.score(features_test, target_test.round(0))"
   ]
  },
  {
   "cell_type": "markdown",
   "metadata": {
    "id": "5DhqyxmidArx"
   },
   "source": [
    "# **Multiclass SVM**"
   ]
  },
  {
   "cell_type": "code",
   "execution_count": 77,
   "metadata": {
    "id": "3cy3_R81dAr7"
   },
   "outputs": [],
   "source": [
    "from sklearn.svm import SVC\n",
    "from sklearn.pipeline import make_pipeline\n",
    "from sklearn.model_selection import learning_curve"
   ]
  },
  {
   "cell_type": "code",
   "execution_count": 78,
   "metadata": {
    "id": "_LVVmFxFdAr8"
   },
   "outputs": [],
   "source": [
    "def get_cmap(n):\n",
    "    return 'C' + str(n)\n",
    "\n",
    "# Hàm thực hiện training model, crossvalidate và vẽ lên đồ thị sử dụng mat libplot \n",
    "def plot_learning_curve(estimator, title, label_curve, X, y, ylim=None, cv=None,\n",
    "                        n_jobs=1, train_sizes=np.linspace(.1, 1.0, 5), new_plot=False,\n",
    "                        idx_color=0):\n",
    "    \n",
    "    # Khởi tạo bức ảnh mới với thư viện plot lib\n",
    "    if new_plot:\n",
    "        # plt.figure()\n",
    "        plt.title(title)\n",
    "        plt.xlabel(\"Training examples\")\n",
    "        plt.ylabel(\"Accuracy\")\n",
    "        plt.grid()\n",
    "    \n",
    "    # chú thích nếu có \n",
    "    if ylim is not None:\n",
    "        plt.ylim(*ylim)\n",
    "        \n",
    "    #\n",
    "    # thực hiện training model, ghi nhận các giá trị trong quá trình training \n",
    "    # cv = số fold cross validate, số phần bộ dữ liệu được chia để thực hiện training testing.\n",
    "    # train_sizes = mảng tỉ lệ, các tỉ lệ được hệ thống chọn làm điểm dừng để thực hiện 1 testing \n",
    "    #  train_sizes = [0.3, 0.5] => hệ thống lấy 30 % dữ liệu để train và thực hiện test, tương tự 50 % ..\n",
    "    # scoring = hàm mục tiêu để đánh giá chất lượng mô hình và vẽ lên đồ thị \n",
    "    train_sizes, train_scores, test_scores = learning_curve(\n",
    "        estimator, X, y, cv=cv, n_jobs=n_jobs, train_sizes=train_sizes, scoring=\"accuracy\")\n",
    "    \n",
    "    # Lấy trung bình cộng các giá trị output của các fold\n",
    "    train_scores_mean = np.mean(train_scores, axis=1)\n",
    "    train_scores_std = np.std(train_scores, axis=1)\n",
    "    test_scores_mean = np.mean(test_scores, axis=1)\n",
    "    test_scores_std = np.std(test_scores, axis=1)\n",
    "    \n",
    "    # random 1 màu để vẽ \n",
    "    color = get_cmap(idx_color)\n",
    "    \n",
    "    # thực hiện vẽ các giá trị số lên đồ thị với màu vừa được random \n",
    "    #plt.fill_between(train_sizes, test_scores_mean - test_scores_std, test_scores_mean + test_scores_std, alpha=0.1, color=color)\n",
    "    plt.plot(train_sizes, test_scores_mean, 'o-', color=color,\n",
    "             label=label_curve)\n",
    "\n",
    "    plt.legend(loc=\"best\")\n",
    "    return plt"
   ]
  },
  {
   "cell_type": "code",
   "execution_count": 79,
   "metadata": {
    "id": "qaPeTh8JdAr9"
   },
   "outputs": [
    {
     "data": {
      "image/png": "[encoded data removed]",
      "text/plain": [
       "<Figure size 432x288 with 1 Axes>"
      ]
     },
     "metadata": {
      "needs_background": "light"
     },
     "output_type": "display_data"
    }
   ],
   "source": [
    "title = \"Learning Curves SVM, Change kernel, C=1\"\n",
    "#clf = SVC(kernel = 'linear', C = 1.0)\n",
    "for i, kernel in enumerate(['linear', 'poly', 'rbf', 'sigmoid']):\n",
    "  clf = SVC(kernel = kernel, C = 1.0)\n",
    "  plt = plot_learning_curve(clf, title, f\"kernel = {kernel}\",\n",
    "                              feat_scaled, target_df.round(0),\n",
    "                              (0.3, 0.8), cv=10, n_jobs=-1, idx_color=i, new_plot=i == 0)\n",
    "# plt.savefig(os.path.join(DATA_DIR,'svm_change_kernel.png'), bbox_inches='tight')"
   ]
  },
  {
   "cell_type": "code",
   "execution_count": 88,
   "metadata": {
    "id": "Zna7Lbuv7p3Q"
   },
   "outputs": [
    {
     "data": {
      "image/png": "[encoded data removed]",
      "text/plain": [
       "<Figure size 432x288 with 1 Axes>"
      ]
     },
     "metadata": {
      "needs_background": "light"
     },
     "output_type": "display_data"
    }
   ],
   "source": [
    "title = \"Learning Curves SVM, Change C, kernel = rbf\"\n",
    "for i, _C in enumerate([.1, 1.0, 2.0, 5.0, 10.0]):\n",
    "  clf = SVC(kernel = 'rbf', C = _C)\n",
    "  plt = plot_learning_curve(clf, title, \"C = %0.1f\" % (_C),\n",
    "                              feat_scaled, target_df.round(0),\n",
    "                              (0, 1), cv=10, n_jobs=-1, idx_color=i, new_plot=i == 0)\n",
    "\n",
    "# plt.savefig(os.path.join(DATA_DIR,'svm_rbf_change_C.png'), bbox_inches='tight')"
   ]
  },
  {
   "cell_type": "code",
   "execution_count": 81,
   "metadata": {
    "id": "AubFYBZOoQl0"
   },
   "outputs": [
    {
     "data": {
      "text/plain": [
       "SVC(C=10)"
      ]
     },
     "execution_count": 81,
     "metadata": {},
     "output_type": "execute_result"
    }
   ],
   "source": [
    "clf = SVC(kernel = 'rbf', C = 10)\n",
    "clf.fit(features_train, target_train.round(0))"
   ]
  },
  {
   "cell_type": "code",
   "execution_count": 82,
   "metadata": {
    "id": "IPwh-AQFonoj"
   },
   "outputs": [
    {
     "data": {
      "text/plain": [
       "0.7585714285714286"
      ]
     },
     "execution_count": 82,
     "metadata": {},
     "output_type": "execute_result"
    }
   ],
   "source": [
    "clf.score(features_test, target_test.round(0))"
   ]
  },
  {
   "cell_type": "code",
   "execution_count": null,
   "metadata": {
    "id": "GJSkdiBlouXs"
   },
   "outputs": [],
   "source": []
  },
  {
   "cell_type": "markdown",
   "metadata": {
    "id": "EdK50Kqeb1_3"
   },
   "source": [
    "# **Bayesian Regression**\n",
    "\n",
    "\n"
   ]
  },
  {
   "cell_type": "code",
   "execution_count": 83,
   "metadata": {
    "id": "DUmjcarZOJ94"
   },
   "outputs": [],
   "source": [
    "from sklearn.linear_model import BayesianRidge"
   ]
  },
  {
   "cell_type": "code",
   "execution_count": 84,
   "metadata": {
    "id": "9a4F6ac2OLpC"
   },
   "outputs": [
    {
     "data": {
      "text/plain": [
       "BayesianRidge()"
      ]
     },
     "execution_count": 84,
     "metadata": {},
     "output_type": "execute_result"
    }
   ],
   "source": [
    "reg = BayesianRidge()\n",
    "reg.fit(features_train.values, target_train)"
   ]
  },
  {
   "cell_type": "code",
   "execution_count": 85,
   "metadata": {
    "id": "FF-8xWICONUa"
   },
   "outputs": [],
   "source": [
    "target_pred = reg.predict(features_test.values)\n"
   ]
  },
  {
   "cell_type": "code",
   "execution_count": 86,
   "metadata": {
    "id": "8Eknac6QOPRW"
   },
   "outputs": [
    {
     "data": {
      "text/plain": [
       "Text(0.5, 1.0, 'Movie ratings vs Predicted ratings')"
      ]
     },
     "execution_count": 86,
     "metadata": {},
     "output_type": "execute_result"
    },
    {
     "data": {
      "image/png": "[encoded data removed]",
      "text/plain": [
       "<Figure size 432x288 with 1 Axes>"
      ]
     },
     "metadata": {
      "needs_background": "light"
     },
     "output_type": "display_data"
    }
   ],
   "source": [
    "plt.axis([0,10,0,10])\n",
    "plt.scatter(target_test, target_pred)\n",
    "\n",
    "index_arr = [n for n in range(11)]\n",
    "plt.plot(index_arr,'r--')             \n",
    "plt.xlabel(\"Movie Ratings\")\n",
    "plt.ylabel(\"Predicted Ratings\")\n",
    "plt.title(\"Movie ratings vs Predicted ratings\")"
   ]
  },
  {
   "cell_type": "code",
   "execution_count": 87,
   "metadata": {
    "id": "R79C-rSCORbv"
   },
   "outputs": [
    {
     "name": "stdout",
     "output_type": "stream",
     "text": [
      "R^2 Score for predictions: 0.8602354040831159\n"
     ]
    }
   ],
   "source": [
    "from sklearn.metrics import r2_score\n",
    "\n",
    "score = r2_score(target_test, target_pred)\n",
    "\n",
    "print(\"R^2 Score for predictions:\", score)"
   ]
  },
  {
   "cell_type": "code",
   "execution_count": null,
   "metadata": {
    "id": "a0X_LLDVOTLb"
   },
   "outputs": [],
   "source": []
  }
 ],
 "metadata": {
  "accelerator": "GPU",
  "colab": {
   "collapsed_sections": [
    "ZAYage9XcDKE",
    "PGkuNA-m3efl",
    "vw_RnLYuGRJd",
    "Z7OYLFVDe_Dy",
    "5DhqyxmidArx",
    "EdK50Kqeb1_3"
   ],
   "name": "ML-DM.ipynb",
   "private_outputs": true,
   "provenance": []
  },
  "kernelspec": {
   "display_name": "Python 3",
   "language": "python",
   "name": "python3"
  },
  "language_info": {
   "codemirror_mode": {
    "name": "ipython",
    "version": 3
   },
   "file_extension": ".py",
   "mimetype": "text/x-python",
   "name": "python",
   "nbconvert_exporter": "python",
   "pygments_lexer": "ipython3",
   "version": "3.8.3"
  }
 },
 "nbformat": 4,
 "nbformat_minor": 1
}
